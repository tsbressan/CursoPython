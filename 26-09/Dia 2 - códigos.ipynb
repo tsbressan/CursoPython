{
 "cells": [
  {
   "cell_type": "markdown",
   "metadata": {},
   "source": [
    "ESTRUTURA DE CONTROLE E ESTRUTURA DE REPETIÇÃO"
   ]
  },
  {
   "cell_type": "markdown",
   "metadata": {},
   "source": [
    "Slide 3"
   ]
  },
  {
   "cell_type": "code",
   "execution_count": 1,
   "metadata": {},
   "outputs": [
    {
     "name": "stdout",
     "output_type": "stream",
     "text": [
      "Número maior que 3\n"
     ]
    }
   ],
   "source": [
    "a = 10\n",
    "if a > 3:    #verdadeiro\n",
    "\tprint(\"Número maior que 3\")\n",
    "else:        #falso\n",
    "\tprint(\"Número menor que 3\")\n"
   ]
  },
  {
   "cell_type": "markdown",
   "metadata": {},
   "source": [
    "Slide 4"
   ]
  },
  {
   "cell_type": "code",
   "execution_count": 3,
   "metadata": {},
   "outputs": [
    {
     "name": "stdout",
     "output_type": "stream",
     "text": [
      "o valor de entrada não era esperado em nenhum if\n"
     ]
    }
   ],
   "source": [
    "valor_entrada = 10\n",
    "if valor_entrada == 1:\n",
    "\tprint(\"a entrada era 1\")\n",
    "elif valor_entrada == 2:\n",
    "\tprint(\"a entrada era 2\")\n",
    "elif valor_entrada == 3:\n",
    "\tprint(\"a entrada era 3\")\n",
    "elif valor_entrada == 4:\n",
    "\tprint(\"a entrada era 4\")\n",
    "else:\n",
    "\tprint(\"o valor de entrada não era esperado em nenhum if\")\n"
   ]
  },
  {
   "cell_type": "markdown",
   "metadata": {},
   "source": [
    "Slide 5 - exemplos:"
   ]
  },
  {
   "cell_type": "code",
   "execution_count": 13,
   "metadata": {},
   "outputs": [
    {
     "name": "stdout",
     "output_type": "stream",
     "text": [
      "Menor que 5\n"
     ]
    }
   ],
   "source": [
    "valor_entrada = 4\n",
    "if valor_entrada > 5:\n",
    "    print (\"Maior que 5\")\n",
    "elif valor_entrada < 5:\n",
    "    print (\"Menor que 5\")"
   ]
  },
  {
   "cell_type": "markdown",
   "metadata": {},
   "source": [
    "Slide 6"
   ]
  },
  {
   "cell_type": "code",
   "execution_count": 17,
   "metadata": {},
   "outputs": [
    {
     "name": "stdout",
     "output_type": "stream",
     "text": [
      "Quantos anos voce tem?18\n",
      "Você já tem idade para votar. Verifique seu título..\n"
     ]
    }
   ],
   "source": [
    "def main():\n",
    "\tidade= int(input (\"Quantos anos voce tem?\"))  \n",
    "\tif idade >=  16:\n",
    "\t\tprint (\"Você já tem idade para votar. Verifique seu título..\")\n",
    "\telif idade > 10 and idade < 16:\n",
    "\t\tprint (\"Você é adolescente\")\n",
    "\telse:\n",
    "\t\tprint(\"Você ainda é um garoto(a). Aproveite para brincar...\")\n",
    "\n",
    "main()\n"
   ]
  },
  {
   "cell_type": "code",
   "execution_count": null,
   "metadata": {},
   "outputs": [],
   "source": [
    "Slide 7"
   ]
  },
  {
   "cell_type": "code",
   "execution_count": 23,
   "metadata": {},
   "outputs": [
    {
     "name": "stdout",
     "output_type": "stream",
     "text": [
      "Digite o número 1:5\n",
      "Digite o Número 2:5\n",
      "Os números são iguais\n"
     ]
    }
   ],
   "source": [
    "def main():\n",
    "\tNumero1= int(input (\"Digite o número 1:\"))  \n",
    "\tNumero2= int(input (\"Digite o Número 2:\"))  \n",
    "\tif Numero1 > Numero2:\n",
    "\t\tprint (\"Primeiro número é maior que o segundo número\")\n",
    "\telif Numero2 >  Numero1:\n",
    "\t\tprint (\"Segundo número é maior que o primeiro número\")\n",
    "\telse:\n",
    "\t\tprint(\"Os números são iguais\")\n",
    "\n",
    "main()\n"
   ]
  },
  {
   "cell_type": "code",
   "execution_count": null,
   "metadata": {},
   "outputs": [],
   "source": []
  },
  {
   "cell_type": "markdown",
   "metadata": {},
   "source": [
    "Slide 9"
   ]
  },
  {
   "cell_type": "code",
   "execution_count": 2,
   "metadata": {},
   "outputs": [
    {
     "name": "stdout",
     "output_type": "stream",
     "text": [
      "Digite o número 1:8\n",
      "Digite o Número 2:7\n",
      "Primeiro número é maior que o segundo número\n"
     ]
    }
   ],
   "source": [
    "Numeros = []\n",
    "def main():\n",
    "\tNumeros.append(eval(input (\"Digite o número 1:\")))\n",
    "\tNumeros.append(eval(input (\"Digite o Número 2:\")))\n",
    "\tif Numeros[0] > Numeros[1]:\n",
    "\t\tprint (\"Primeiro número é maior que o segundo número\")\n",
    "\telif Numeros[1] >  Numeros[0]:\n",
    "\t\tprint (\"Segundo número é maior que o primeiro número\")\n",
    "\telse:\n",
    "\t\tprint(\"Os números são iguais\")\n",
    "\n",
    "main()\n"
   ]
  },
  {
   "cell_type": "code",
   "execution_count": null,
   "metadata": {},
   "outputs": [],
   "source": []
  },
  {
   "cell_type": "markdown",
   "metadata": {},
   "source": [
    "Slide 10"
   ]
  },
  {
   "cell_type": "code",
   "execution_count": 27,
   "metadata": {},
   "outputs": [
    {
     "ename": "IndexError",
     "evalue": "list index out of range",
     "output_type": "error",
     "traceback": [
      "\u001b[1;31m---------------------------------------------------------------------------\u001b[0m",
      "\u001b[1;31mIndexError\u001b[0m                                Traceback (most recent call last)",
      "\u001b[1;32m<ipython-input-27-9b3fca5cff9d>\u001b[0m in \u001b[0;36m<module>\u001b[1;34m\u001b[0m\n\u001b[0;32m      1\u001b[0m \u001b[0malunos\u001b[0m \u001b[1;33m=\u001b[0m \u001b[1;33m[\u001b[0m\u001b[1;34m'Andre'\u001b[0m\u001b[1;33m,\u001b[0m \u001b[1;34m'Lucas'\u001b[0m\u001b[1;33m,\u001b[0m \u001b[1;34m'Antonio'\u001b[0m\u001b[1;33m,\u001b[0m \u001b[1;34m'Maria'\u001b[0m\u001b[1;33m]\u001b[0m\u001b[1;33m\u001b[0m\u001b[1;33m\u001b[0m\u001b[0m\n\u001b[1;32m----> 2\u001b[1;33m \u001b[0mprint\u001b[0m\u001b[1;33m(\u001b[0m\u001b[0malunos\u001b[0m\u001b[1;33m[\u001b[0m\u001b[1;36m4\u001b[0m\u001b[1;33m]\u001b[0m\u001b[1;33m)\u001b[0m\u001b[1;33m\u001b[0m\u001b[1;33m\u001b[0m\u001b[0m\n\u001b[0m",
      "\u001b[1;31mIndexError\u001b[0m: list index out of range"
     ]
    }
   ],
   "source": [
    "alunos = ['Andre', 'Lucas', 'Antonio', 'Maria'] \n",
    "print(alunos[4])\n"
   ]
  },
  {
   "cell_type": "code",
   "execution_count": null,
   "metadata": {},
   "outputs": [],
   "source": []
  },
  {
   "cell_type": "markdown",
   "metadata": {},
   "source": [
    "Slide 11"
   ]
  },
  {
   "cell_type": "code",
   "execution_count": 29,
   "metadata": {},
   "outputs": [
    {
     "name": "stdout",
     "output_type": "stream",
     "text": [
      "[1, 2, 3, 4]\n",
      "[1, 2, 3, 4, 4, 5, 6]\n"
     ]
    }
   ],
   "source": [
    "lista = [1,2,3]\n",
    "lista = lista + [4]\n",
    "print (lista)\n",
    "lista = lista + [4,5,6]\n",
    "print (lista)\n"
   ]
  },
  {
   "cell_type": "code",
   "execution_count": null,
   "metadata": {},
   "outputs": [],
   "source": []
  },
  {
   "cell_type": "markdown",
   "metadata": {},
   "source": [
    "Slide 12"
   ]
  },
  {
   "cell_type": "code",
   "execution_count": 30,
   "metadata": {},
   "outputs": [
    {
     "data": {
      "text/plain": [
       "[1, 2, 3, 1, 2, 3, 1, 2, 3]"
      ]
     },
     "execution_count": 30,
     "metadata": {},
     "output_type": "execute_result"
    }
   ],
   "source": [
    "lista = [1,2,3] \n",
    "lista * 3              "
   ]
  },
  {
   "cell_type": "code",
   "execution_count": 31,
   "metadata": {},
   "outputs": [
    {
     "data": {
      "text/plain": [
       "[0, 0, 0, 0, 0, 0, 0, 0, 0, 0]"
      ]
     },
     "execution_count": 31,
     "metadata": {},
     "output_type": "execute_result"
    }
   ],
   "source": [
    "tamanho = 10 \n",
    "lista = [0] \n",
    "lista * tamanho \n"
   ]
  },
  {
   "cell_type": "markdown",
   "metadata": {},
   "source": [
    "EXERCÍCIOS - SLIDE 13 E 14"
   ]
  },
  {
   "cell_type": "code",
   "execution_count": null,
   "metadata": {},
   "outputs": [],
   "source": []
  },
  {
   "cell_type": "markdown",
   "metadata": {},
   "source": [
    "Slide 16"
   ]
  },
  {
   "cell_type": "code",
   "execution_count": 32,
   "metadata": {},
   "outputs": [
    {
     "name": "stdout",
     "output_type": "stream",
     "text": [
      "Número:  0\n",
      "Número:  1\n",
      "Número:  2\n"
     ]
    }
   ],
   "source": [
    "for n in list(range(0, 3)):\n",
    "\tprint(\"Número: \" , n)\n"
   ]
  },
  {
   "cell_type": "code",
   "execution_count": 33,
   "metadata": {},
   "outputs": [
    {
     "name": "stdout",
     "output_type": "stream",
     "text": [
      "1\n",
      "4\n",
      "9\n",
      "16\n",
      "100\n"
     ]
    }
   ],
   "source": [
    "v = [1, 2, 3, 4, 10]\n",
    "for numero in v:\n",
    "\tprint(numero ** 2)\n"
   ]
  },
  {
   "cell_type": "code",
   "execution_count": null,
   "metadata": {},
   "outputs": [],
   "source": []
  },
  {
   "cell_type": "markdown",
   "metadata": {},
   "source": [
    "Slide 17"
   ]
  },
  {
   "cell_type": "code",
   "execution_count": 34,
   "metadata": {},
   "outputs": [
    {
     "name": "stdout",
     "output_type": "stream",
     "text": [
      "u\n",
      "n\n",
      "i\n",
      "s\n",
      "i\n",
      "n\n",
      "o\n",
      "s\n"
     ]
    }
   ],
   "source": [
    "palavra = \"unisinos\"\n",
    "for letra in palavra:\n",
    "\tprint(letra)\n"
   ]
  },
  {
   "cell_type": "code",
   "execution_count": null,
   "metadata": {},
   "outputs": [],
   "source": []
  },
  {
   "cell_type": "markdown",
   "metadata": {},
   "source": [
    "Slide 18"
   ]
  },
  {
   "cell_type": "code",
   "execution_count": 36,
   "metadata": {},
   "outputs": [
    {
     "name": "stdout",
     "output_type": "stream",
     "text": [
      "Digite uma palavra: Thiago\n",
      "Palavra digitada está correta..\n",
      "Digite uma palavra: Unisinos\n",
      "Palavra digitada está correta..\n",
      "Digite uma palavra: Teste\n",
      "Palavra digitada está correta..\n"
     ]
    }
   ],
   "source": [
    "for n in range(0,3):\n",
    "    string_digitada = input(\"Digite uma palavra: \")\n",
    "    if string_digitada.lower() == \"quit\":\n",
    "        print(\"Finalizou a execução!\")\n",
    "        break\n",
    "    if len(string_digitada) <= 3:\n",
    "        print(\"Palavra muito pequena\")\n",
    "        continue\n",
    "    if len(string_digitada) > 3:\n",
    "        print(\"Palavra digitada está correta..\")\n"
   ]
  },
  {
   "cell_type": "code",
   "execution_count": null,
   "metadata": {},
   "outputs": [],
   "source": []
  },
  {
   "cell_type": "markdown",
   "metadata": {},
   "source": [
    "EXERCÍCIOS FOR - SLIDE 19"
   ]
  },
  {
   "cell_type": "code",
   "execution_count": null,
   "metadata": {},
   "outputs": [],
   "source": []
  },
  {
   "cell_type": "markdown",
   "metadata": {},
   "source": [
    "Slide 21"
   ]
  },
  {
   "cell_type": "code",
   "execution_count": 37,
   "metadata": {},
   "outputs": [
    {
     "name": "stdout",
     "output_type": "stream",
     "text": [
      "0\n",
      "1\n",
      "2\n",
      "3\n"
     ]
    }
   ],
   "source": [
    "n = 0\n",
    "while n <= 3:     #condição for verdadeira – teste lógico\n",
    "\tprint(n)\n",
    "\tn += 1\n"
   ]
  },
  {
   "cell_type": "code",
   "execution_count": null,
   "metadata": {},
   "outputs": [],
   "source": []
  },
  {
   "cell_type": "markdown",
   "metadata": {},
   "source": [
    "Slide 22"
   ]
  },
  {
   "cell_type": "code",
   "execution_count": 39,
   "metadata": {},
   "outputs": [
    {
     "name": "stdout",
     "output_type": "stream",
     "text": [
      "Digite um número inteiro (-1 para sair ou quit após execução)5\n",
      "Digite uma palavra: Thiago\n",
      "Palavra digitada está correta..\n",
      "Digite uma palavra: teste\n",
      "Palavra digitada está correta..\n",
      "Digite uma palavra: teste\n",
      "Palavra digitada está correta..\n",
      "Digite uma palavra: teste\n",
      "Palavra digitada está correta..\n",
      "Digite uma palavra: teste\n",
      "Palavra digitada está correta..\n",
      "Digite uma palavra: quit\n",
      "Finalizou a execução!\n",
      "código finalizado\n"
     ]
    }
   ],
   "source": [
    "n=0\n",
    "n = int (input(\"Digite um número inteiro (-1 para sair ou quit após execução)\"))\n",
    "while n != -1:\n",
    "    string_digitada = input(\"Digite uma palavra: \")\n",
    "    if string_digitada.lower() == \"quit\":\n",
    "        print(\"Finalizou a execução!\")\n",
    "        break\n",
    "    if len(string_digitada) <= 3:\n",
    "        print(\"Palavra muito pequena\")\n",
    "        continue\n",
    "    if len(string_digitada) > 3:\n",
    "        print(\"Palavra digitada está correta..\")\n",
    "\n",
    "print (\"código finalizado\")\n"
   ]
  },
  {
   "cell_type": "code",
   "execution_count": null,
   "metadata": {},
   "outputs": [],
   "source": []
  },
  {
   "cell_type": "markdown",
   "metadata": {},
   "source": [
    "Slide 23"
   ]
  },
  {
   "cell_type": "code",
   "execution_count": 40,
   "metadata": {},
   "outputs": [
    {
     "name": "stdout",
     "output_type": "stream",
     "text": [
      "[0, 1, 2, 3, 4]\n"
     ]
    }
   ],
   "source": [
    "seq = []\n",
    "i = 0\n",
    "while i < 5:\n",
    "\tnovo_elemento = i\n",
    "\tseq.append( novo_elemento )\n",
    "\ti = i + 1\n",
    "\n",
    "print (seq)\n"
   ]
  },
  {
   "cell_type": "code",
   "execution_count": null,
   "metadata": {},
   "outputs": [],
   "source": []
  },
  {
   "cell_type": "markdown",
   "metadata": {},
   "source": [
    "EXERCÍCIOS WHILE - SLIDE 24"
   ]
  },
  {
   "cell_type": "code",
   "execution_count": null,
   "metadata": {},
   "outputs": [],
   "source": []
  },
  {
   "cell_type": "code",
   "execution_count": null,
   "metadata": {},
   "outputs": [],
   "source": []
  },
  {
   "cell_type": "code",
   "execution_count": null,
   "metadata": {},
   "outputs": [],
   "source": [
    "\n",
    "    \n"
   ]
  },
  {
   "cell_type": "code",
   "execution_count": null,
   "metadata": {},
   "outputs": [],
   "source": []
  },
  {
   "cell_type": "code",
   "execution_count": null,
   "metadata": {},
   "outputs": [],
   "source": []
  }
 ],
 "metadata": {
  "kernelspec": {
   "display_name": "Python 3",
   "language": "python",
   "name": "python3"
  },
  "language_info": {
   "codemirror_mode": {
    "name": "ipython",
    "version": 3
   },
   "file_extension": ".py",
   "mimetype": "text/x-python",
   "name": "python",
   "nbconvert_exporter": "python",
   "pygments_lexer": "ipython3",
   "version": "3.7.3"
  }
 },
 "nbformat": 4,
 "nbformat_minor": 2
}
