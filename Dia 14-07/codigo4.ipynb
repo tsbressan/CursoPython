{
 "cells": [
  {
   "cell_type": "markdown",
   "id": "7dfa15e6",
   "metadata": {},
   "source": [
    "1) Faça um código Python para criar uma matriz com 3 linhas e 5 colunas. Inicializar com valores aleatórios (tipo float). Realizar a soma dos valores por linha e por coluna. Mostrar os valores.\n",
    "\n",
    "variáveis:\n",
    "GRA\n",
    "p-wave\n",
    "NGR"
   ]
  },
  {
   "cell_type": "code",
   "execution_count": 7,
   "id": "fd71a776",
   "metadata": {},
   "outputs": [],
   "source": [
    "leitura_pocoX = [[1.55,1.99,2.05,3.15,2.01],[1708,1701,1699,1702,1709],[80.5, 80.1, 70.3, 75.1, 69.8]]"
   ]
  },
  {
   "cell_type": "code",
   "execution_count": 8,
   "id": "08804ee5",
   "metadata": {},
   "outputs": [
    {
     "name": "stdout",
     "output_type": "stream",
     "text": [
      "[[1.55, 1.99, 2.05, 3.15, 2.01], [1708, 1701, 1699, 1702, 1709], [80.5, 80.1, 70.3, 75.1, 69.8]]\n"
     ]
    }
   ],
   "source": [
    "print (leitura_pocoX)"
   ]
  },
  {
   "cell_type": "code",
   "execution_count": 9,
   "id": "cc99577f",
   "metadata": {},
   "outputs": [
    {
     "data": {
      "text/plain": [
       "[[1.55, 1.99, 2.05, 3.15, 2.01],\n",
       " [1708, 1701, 1699, 1702, 1709],\n",
       " [80.5, 80.1, 70.3, 75.1, 69.8]]"
      ]
     },
     "execution_count": 9,
     "metadata": {},
     "output_type": "execute_result"
    }
   ],
   "source": [
    "leitura_pocoX"
   ]
  },
  {
   "cell_type": "code",
   "execution_count": 10,
   "id": "4b80092b",
   "metadata": {},
   "outputs": [
    {
     "data": {
      "text/plain": [
       "3"
      ]
     },
     "execution_count": 10,
     "metadata": {},
     "output_type": "execute_result"
    }
   ],
   "source": [
    "len(leitura_pocoX)"
   ]
  },
  {
   "cell_type": "code",
   "execution_count": 11,
   "id": "44f88661",
   "metadata": {},
   "outputs": [
    {
     "name": "stdout",
     "output_type": "stream",
     "text": [
      "[1.55, 1.99, 2.05, 3.15, 2.01]\n"
     ]
    }
   ],
   "source": [
    "print(leitura_pocoX[0])"
   ]
  },
  {
   "cell_type": "code",
   "execution_count": 12,
   "id": "3d22756a",
   "metadata": {},
   "outputs": [],
   "source": [
    "soma_L0 = sum(leitura_pocoX[0])"
   ]
  },
  {
   "cell_type": "code",
   "execution_count": 13,
   "id": "d07c30ae",
   "metadata": {},
   "outputs": [
    {
     "name": "stdout",
     "output_type": "stream",
     "text": [
      "10.75\n"
     ]
    }
   ],
   "source": [
    "print(soma_L0)"
   ]
  },
  {
   "cell_type": "code",
   "execution_count": 14,
   "id": "5b71d0c0",
   "metadata": {},
   "outputs": [
    {
     "data": {
      "text/plain": [
       "float"
      ]
     },
     "execution_count": 14,
     "metadata": {},
     "output_type": "execute_result"
    }
   ],
   "source": [
    "type(soma_L0)"
   ]
  },
  {
   "cell_type": "code",
   "execution_count": 15,
   "id": "5197a279",
   "metadata": {},
   "outputs": [],
   "source": [
    "media_L0 = soma_L0 / len(leitura_pocoX[0])"
   ]
  },
  {
   "cell_type": "code",
   "execution_count": 16,
   "id": "46d278b2",
   "metadata": {},
   "outputs": [
    {
     "name": "stdout",
     "output_type": "stream",
     "text": [
      "2.15\n"
     ]
    }
   ],
   "source": [
    "print(media_L0)"
   ]
  },
  {
   "cell_type": "code",
   "execution_count": 17,
   "id": "8729199b",
   "metadata": {},
   "outputs": [],
   "source": [
    "soma_L1 = sum(leitura_pocoX[1])"
   ]
  },
  {
   "cell_type": "code",
   "execution_count": 18,
   "id": "969aea86",
   "metadata": {},
   "outputs": [],
   "source": [
    "soma_L2 = sum(leitura_pocoX[2])"
   ]
  },
  {
   "cell_type": "code",
   "execution_count": 19,
   "id": "7b595e99",
   "metadata": {},
   "outputs": [
    {
     "name": "stdout",
     "output_type": "stream",
     "text": [
      "10.75 8519 375.8\n"
     ]
    }
   ],
   "source": [
    "print (soma_L0, soma_L1, soma_L2)"
   ]
  },
  {
   "cell_type": "code",
   "execution_count": 20,
   "id": "ac2a0cd3",
   "metadata": {},
   "outputs": [],
   "source": [
    "media_L1 = soma_L1 / len(leitura_pocoX[1])\n",
    "media_L2 = soma_L2 / len(leitura_pocoX[2])"
   ]
  },
  {
   "cell_type": "code",
   "execution_count": 21,
   "id": "ef47340f",
   "metadata": {},
   "outputs": [
    {
     "name": "stdout",
     "output_type": "stream",
     "text": [
      "2.15 1703.8 75.16\n"
     ]
    }
   ],
   "source": [
    "print (media_L0, media_L1, media_L2)"
   ]
  },
  {
   "cell_type": "code",
   "execution_count": null,
   "id": "eae619de",
   "metadata": {},
   "outputs": [],
   "source": []
  },
  {
   "cell_type": "code",
   "execution_count": 22,
   "id": "9e2459f1",
   "metadata": {},
   "outputs": [
    {
     "data": {
      "text/plain": [
       "[[1.55, 1.99, 2.05, 3.15, 2.01],\n",
       " [1708, 1701, 1699, 1702, 1709],\n",
       " [80.5, 80.1, 70.3, 75.1, 69.8]]"
      ]
     },
     "execution_count": 22,
     "metadata": {},
     "output_type": "execute_result"
    }
   ],
   "source": [
    "leitura_pocoX"
   ]
  },
  {
   "cell_type": "code",
   "execution_count": 23,
   "id": "4f2d43ba",
   "metadata": {},
   "outputs": [
    {
     "name": "stdout",
     "output_type": "stream",
     "text": [
      "1.55\n"
     ]
    }
   ],
   "source": [
    "print (leitura_pocoX[0][0])"
   ]
  },
  {
   "cell_type": "code",
   "execution_count": 24,
   "id": "3a97fb6d",
   "metadata": {},
   "outputs": [
    {
     "name": "stdout",
     "output_type": "stream",
     "text": [
      "1.99\n"
     ]
    }
   ],
   "source": [
    "print (leitura_pocoX[0][1])"
   ]
  },
  {
   "cell_type": "code",
   "execution_count": 25,
   "id": "6048e7ae",
   "metadata": {},
   "outputs": [
    {
     "name": "stdout",
     "output_type": "stream",
     "text": [
      "1708\n"
     ]
    }
   ],
   "source": [
    "print (leitura_pocoX[1][0])"
   ]
  },
  {
   "cell_type": "code",
   "execution_count": null,
   "id": "cf69a2dc",
   "metadata": {},
   "outputs": [],
   "source": []
  },
  {
   "cell_type": "code",
   "execution_count": 26,
   "id": "3ba270c5",
   "metadata": {},
   "outputs": [],
   "source": [
    "#criar uma lista com as médias"
   ]
  },
  {
   "cell_type": "code",
   "execution_count": 27,
   "id": "20327030",
   "metadata": {},
   "outputs": [],
   "source": [
    "medias_leitura_pocoX = [media_L0, media_L1, media_L2]"
   ]
  },
  {
   "cell_type": "code",
   "execution_count": 28,
   "id": "3188bdda",
   "metadata": {},
   "outputs": [
    {
     "name": "stdout",
     "output_type": "stream",
     "text": [
      "[2.15, 1703.8, 75.16]\n"
     ]
    }
   ],
   "source": [
    "print (medias_leitura_pocoX)"
   ]
  },
  {
   "cell_type": "code",
   "execution_count": 29,
   "id": "174e8b96",
   "metadata": {},
   "outputs": [],
   "source": [
    "somas_leitura_pocoX = [soma_L0, soma_L1, soma_L2]"
   ]
  },
  {
   "cell_type": "code",
   "execution_count": 30,
   "id": "3d8668ff",
   "metadata": {},
   "outputs": [
    {
     "name": "stdout",
     "output_type": "stream",
     "text": [
      "[10.75, 8519, 375.8]\n"
     ]
    }
   ],
   "source": [
    "print (somas_leitura_pocoX)"
   ]
  },
  {
   "cell_type": "code",
   "execution_count": 31,
   "id": "a1980bb9",
   "metadata": {},
   "outputs": [],
   "source": [
    "join_media_soma = somas_leitura_pocoX + medias_leitura_pocoX"
   ]
  },
  {
   "cell_type": "code",
   "execution_count": 32,
   "id": "5627a986",
   "metadata": {},
   "outputs": [
    {
     "name": "stdout",
     "output_type": "stream",
     "text": [
      "[10.75, 8519, 375.8, 2.15, 1703.8, 75.16]\n"
     ]
    }
   ],
   "source": [
    "print(join_media_soma)"
   ]
  },
  {
   "cell_type": "code",
   "execution_count": 33,
   "id": "b7a9050d",
   "metadata": {},
   "outputs": [],
   "source": [
    "join_media_soma = [somas_leitura_pocoX] + [medias_leitura_pocoX]"
   ]
  },
  {
   "cell_type": "code",
   "execution_count": 34,
   "id": "3f08dde2",
   "metadata": {},
   "outputs": [
    {
     "name": "stdout",
     "output_type": "stream",
     "text": [
      "[[10.75, 8519, 375.8], [2.15, 1703.8, 75.16]]\n"
     ]
    }
   ],
   "source": [
    "print(join_media_soma)"
   ]
  },
  {
   "cell_type": "code",
   "execution_count": 35,
   "id": "77ebe0e3",
   "metadata": {},
   "outputs": [
    {
     "data": {
      "text/plain": [
       "[[10.75, 8519, 375.8], [2.15, 1703.8, 75.16]]"
      ]
     },
     "execution_count": 35,
     "metadata": {},
     "output_type": "execute_result"
    }
   ],
   "source": [
    "join_media_soma"
   ]
  },
  {
   "cell_type": "code",
   "execution_count": 36,
   "id": "fce4dbd8",
   "metadata": {},
   "outputs": [
    {
     "data": {
      "text/plain": [
       "[[1.55, 1.99, 2.05, 3.15, 2.01],\n",
       " [1708, 1701, 1699, 1702, 1709],\n",
       " [80.5, 80.1, 70.3, 75.1, 69.8]]"
      ]
     },
     "execution_count": 36,
     "metadata": {},
     "output_type": "execute_result"
    }
   ],
   "source": [
    "leitura_pocoX"
   ]
  },
  {
   "cell_type": "code",
   "execution_count": 37,
   "id": "0abdb553",
   "metadata": {},
   "outputs": [
    {
     "data": {
      "text/plain": [
       "[[10.75, 8519, 375.8], [2.15, 1703.8, 75.16]]"
      ]
     },
     "execution_count": 37,
     "metadata": {},
     "output_type": "execute_result"
    }
   ],
   "source": [
    "join_media_soma"
   ]
  },
  {
   "cell_type": "code",
   "execution_count": 38,
   "id": "be09a5af",
   "metadata": {},
   "outputs": [],
   "source": [
    "GRA = leitura_pocoX[0]"
   ]
  },
  {
   "cell_type": "code",
   "execution_count": 39,
   "id": "b7f56495",
   "metadata": {},
   "outputs": [
    {
     "name": "stdout",
     "output_type": "stream",
     "text": [
      "[1.55, 1.99, 2.05, 3.15, 2.01]\n"
     ]
    }
   ],
   "source": [
    "print(GRA)"
   ]
  },
  {
   "cell_type": "code",
   "execution_count": 40,
   "id": "6bc5703f",
   "metadata": {},
   "outputs": [],
   "source": [
    "if (GRA[0] > join_media_soma[1][0]):\n",
    "    print (\"O valor do GRA Leitura 1 é maior que a média.\")\n",
    "\n",
    "if (GRA[1] > join_media_soma[1][0]):\n",
    "    print (\"O valor do GRA Leitura 2 é maior que a média.\")"
   ]
  },
  {
   "cell_type": "code",
   "execution_count": null,
   "id": "4c021b12",
   "metadata": {},
   "outputs": [],
   "source": []
  },
  {
   "cell_type": "code",
   "execution_count": null,
   "id": "ad7f2ba9",
   "metadata": {},
   "outputs": [],
   "source": []
  },
  {
   "cell_type": "code",
   "execution_count": 41,
   "id": "3787143d",
   "metadata": {},
   "outputs": [
    {
     "name": "stdout",
     "output_type": "stream",
     "text": [
      "0\n",
      "1\n",
      "2\n"
     ]
    }
   ],
   "source": [
    "for n in list(range(0, 3)):\n",
    "    print (n)"
   ]
  },
  {
   "cell_type": "code",
   "execution_count": 42,
   "id": "1f5ae30e",
   "metadata": {},
   "outputs": [
    {
     "data": {
      "text/plain": [
       "[0, 1, 2]"
      ]
     },
     "execution_count": 42,
     "metadata": {},
     "output_type": "execute_result"
    }
   ],
   "source": [
    "list(range(0, 3))"
   ]
  },
  {
   "cell_type": "code",
   "execution_count": 43,
   "id": "e0a30aff",
   "metadata": {},
   "outputs": [
    {
     "name": "stdout",
     "output_type": "stream",
     "text": [
      "[1.55, 1.99, 2.05, 3.15, 2.01]\n"
     ]
    }
   ],
   "source": [
    "print (GRA)"
   ]
  },
  {
   "cell_type": "code",
   "execution_count": 44,
   "id": "bdc19e51",
   "metadata": {},
   "outputs": [
    {
     "name": "stdout",
     "output_type": "stream",
     "text": [
      "1.55\n",
      "1.99\n",
      "2.05\n",
      "3.15\n",
      "2.01\n"
     ]
    }
   ],
   "source": [
    "for v in GRA:\n",
    "    print (v)"
   ]
  },
  {
   "cell_type": "code",
   "execution_count": 45,
   "id": "f2d7d117",
   "metadata": {},
   "outputs": [
    {
     "data": {
      "text/plain": [
       "[[10.75, 8519, 375.8], [2.15, 1703.8, 75.16]]"
      ]
     },
     "execution_count": 45,
     "metadata": {},
     "output_type": "execute_result"
    }
   ],
   "source": [
    "join_media_soma"
   ]
  },
  {
   "cell_type": "code",
   "execution_count": 46,
   "id": "5e21b545",
   "metadata": {},
   "outputs": [
    {
     "name": "stdout",
     "output_type": "stream",
     "text": [
      "O valor 1.55 é menor que a média\n",
      "O valor 1.99 é menor que a média\n",
      "O valor 2.05 é menor que a média\n",
      "O valor 3.15 é maior que a média\n",
      "O valor 2.01 é menor que a média\n"
     ]
    }
   ],
   "source": [
    "for v in GRA:\n",
    "    if (v > join_media_soma[1][0]):\n",
    "        print (\"O valor\", v, \"é maior que a média\")\n",
    "    else:\n",
    "        print (\"O valor\", v, \"é menor que a média\")"
   ]
  },
  {
   "cell_type": "code",
   "execution_count": null,
   "id": "5eafe055",
   "metadata": {},
   "outputs": [],
   "source": []
  },
  {
   "cell_type": "code",
   "execution_count": 47,
   "id": "edb3defe",
   "metadata": {},
   "outputs": [
    {
     "data": {
      "text/plain": [
       "5"
      ]
     },
     "execution_count": 47,
     "metadata": {},
     "output_type": "execute_result"
    }
   ],
   "source": [
    "len(GRA)"
   ]
  },
  {
   "cell_type": "code",
   "execution_count": 48,
   "id": "04a44724",
   "metadata": {},
   "outputs": [
    {
     "data": {
      "text/plain": [
       "1.55"
      ]
     },
     "execution_count": 48,
     "metadata": {},
     "output_type": "execute_result"
    }
   ],
   "source": [
    "GRA[0]"
   ]
  },
  {
   "cell_type": "code",
   "execution_count": 49,
   "id": "cc5fee89",
   "metadata": {},
   "outputs": [
    {
     "data": {
      "text/plain": [
       "[0, 1, 2, 3, 4]"
      ]
     },
     "execution_count": 49,
     "metadata": {},
     "output_type": "execute_result"
    }
   ],
   "source": [
    "list(range(0,len(GRA)))"
   ]
  },
  {
   "cell_type": "code",
   "execution_count": 50,
   "id": "bdda5a68",
   "metadata": {},
   "outputs": [
    {
     "name": "stdout",
     "output_type": "stream",
     "text": [
      "1.55\n",
      "Posição par. Valor:  1.55\n",
      "1.99\n",
      "Posição impar. Valor:  1.99\n",
      "2.05\n",
      "Posição par. Valor:  2.05\n",
      "3.15\n",
      "Posição impar. Valor:  3.15\n",
      "2.01\n",
      "Posição par. Valor:  2.01\n"
     ]
    }
   ],
   "source": [
    "for v in range(0,len(GRA)):\n",
    "    print (GRA[v])\n",
    "    if (v % 2 == 0):\n",
    "        print (\"Posição par. Valor: \", GRA[v])\n",
    "    else: \n",
    "        print (\"Posição impar. Valor: \", GRA[v])"
   ]
  },
  {
   "cell_type": "code",
   "execution_count": 51,
   "id": "cae83b65",
   "metadata": {},
   "outputs": [
    {
     "data": {
      "text/plain": [
       "[1.55, 1.99, 2.05, 3.15, 2.01]"
      ]
     },
     "execution_count": 51,
     "metadata": {},
     "output_type": "execute_result"
    }
   ],
   "source": [
    "GRA"
   ]
  },
  {
   "cell_type": "code",
   "execution_count": 52,
   "id": "aefb09c6",
   "metadata": {},
   "outputs": [],
   "source": [
    "p_wave = leitura_pocoX[1]"
   ]
  },
  {
   "cell_type": "code",
   "execution_count": 53,
   "id": "542ea38e",
   "metadata": {},
   "outputs": [
    {
     "data": {
      "text/plain": [
       "[1708, 1701, 1699, 1702, 1709]"
      ]
     },
     "execution_count": 53,
     "metadata": {},
     "output_type": "execute_result"
    }
   ],
   "source": [
    "p_wave"
   ]
  },
  {
   "cell_type": "code",
   "execution_count": 54,
   "id": "7a79c91f",
   "metadata": {},
   "outputs": [],
   "source": [
    "NGR = leitura_pocoX[2]"
   ]
  },
  {
   "cell_type": "code",
   "execution_count": 55,
   "id": "3b48605e",
   "metadata": {},
   "outputs": [
    {
     "data": {
      "text/plain": [
       "[80.5, 80.1, 70.3, 75.1, 69.8]"
      ]
     },
     "execution_count": 55,
     "metadata": {},
     "output_type": "execute_result"
    }
   ],
   "source": [
    "NGR"
   ]
  },
  {
   "cell_type": "code",
   "execution_count": 56,
   "id": "9602c6ff",
   "metadata": {},
   "outputs": [
    {
     "data": {
      "text/plain": [
       "list"
      ]
     },
     "execution_count": 56,
     "metadata": {},
     "output_type": "execute_result"
    }
   ],
   "source": [
    "type(GRA)"
   ]
  },
  {
   "cell_type": "code",
   "execution_count": 57,
   "id": "b6071aff",
   "metadata": {},
   "outputs": [
    {
     "name": "stdout",
     "output_type": "stream",
     "text": [
      "2.4025000000000003\n",
      "0.775\n",
      "2.4025000000000003\n",
      "3.9601\n",
      "0.995\n",
      "3.9601\n",
      "4.2025\n",
      "1.025\n",
      "4.2025\n",
      "9.9225\n",
      "1.575\n",
      "9.9225\n",
      "4.040099999999999\n",
      "1.005\n",
      "4.040099999999999\n"
     ]
    }
   ],
   "source": [
    "for v in GRA:\n",
    "    print (v**2)\n",
    "    print (v / 2)\n",
    "    print (v * v)\n",
    "    "
   ]
  },
  {
   "cell_type": "code",
   "execution_count": null,
   "id": "aa13b0e2",
   "metadata": {},
   "outputs": [],
   "source": []
  },
  {
   "cell_type": "code",
   "execution_count": 58,
   "id": "57c1dd4c",
   "metadata": {},
   "outputs": [
    {
     "name": "stdout",
     "output_type": "stream",
     "text": [
      "c\n",
      "u\n",
      "r\n",
      "s\n",
      "o\n",
      " \n",
      "d\n",
      "e\n",
      " \n",
      "p\n",
      "y\n",
      "t\n",
      "h\n",
      "o\n",
      "n\n"
     ]
    }
   ],
   "source": [
    "palavra = \"curso de python\" #tipo: string\n",
    "for letra in palavra:\n",
    "    print(letra)"
   ]
  },
  {
   "cell_type": "code",
   "execution_count": 59,
   "id": "ec8458a7",
   "metadata": {},
   "outputs": [
    {
     "data": {
      "text/plain": [
       "15"
      ]
     },
     "execution_count": 59,
     "metadata": {},
     "output_type": "execute_result"
    }
   ],
   "source": [
    "len(palavra)"
   ]
  },
  {
   "cell_type": "code",
   "execution_count": null,
   "id": "17616a52",
   "metadata": {},
   "outputs": [],
   "source": []
  },
  {
   "cell_type": "code",
   "execution_count": 60,
   "id": "6437d8c8",
   "metadata": {},
   "outputs": [
    {
     "name": "stdout",
     "output_type": "stream",
     "text": [
      "Digite uma palavra: \n",
      "Palavra muito pequena\n",
      "Digite uma palavra: \n",
      "Palavra muito pequena\n",
      "Digite uma palavra: quit\n",
      "Finalizou a execução!\n"
     ]
    }
   ],
   "source": [
    "for n in range(0,3):\n",
    "    string_digitada = input(\"Digite uma palavra: \")\n",
    "    if string_digitada.lower() == \"quit\":\n",
    "        print(\"Finalizou a execução!\")\n",
    "        break\n",
    "    if len(string_digitada) <= 3:\n",
    "        print(\"Palavra muito pequena\")\n",
    "        continue\n",
    "    if len(string_digitada) > 3:\n",
    "        print(\"Palavra digitada está correta..\")\n"
   ]
  },
  {
   "cell_type": "code",
   "execution_count": null,
   "id": "6c859064",
   "metadata": {},
   "outputs": [],
   "source": []
  },
  {
   "cell_type": "markdown",
   "id": "1c7e6153",
   "metadata": {},
   "source": [
    "Mostrar todos os valores de 1 até 10"
   ]
  },
  {
   "cell_type": "code",
   "execution_count": 62,
   "id": "c0d2145a",
   "metadata": {},
   "outputs": [
    {
     "name": "stdout",
     "output_type": "stream",
     "text": [
      "1\n",
      "2\n",
      "3\n",
      "4\n",
      "5\n",
      "6\n",
      "7\n",
      "8\n",
      "9\n",
      "10\n"
     ]
    }
   ],
   "source": [
    "soma = 0\n",
    "for v in range(1,11):\n",
    "    print(v)\n",
    "    soma += v   #soma = soma + v"
   ]
  },
  {
   "cell_type": "code",
   "execution_count": 72,
   "id": "740ee25e",
   "metadata": {},
   "outputs": [
    {
     "data": {
      "text/plain": [
       "55"
      ]
     },
     "execution_count": 72,
     "metadata": {},
     "output_type": "execute_result"
    }
   ],
   "source": [
    "soma"
   ]
  },
  {
   "cell_type": "markdown",
   "id": "f816487f",
   "metadata": {},
   "source": [
    "Mostrar os valores pares de 1 até 10"
   ]
  },
  {
   "cell_type": "code",
   "execution_count": 74,
   "id": "42048565",
   "metadata": {},
   "outputs": [
    {
     "name": "stdout",
     "output_type": "stream",
     "text": [
      "É um número impar.\n",
      "É um número Par\n",
      "É um número impar.\n",
      "É um número Par\n",
      "É um número impar.\n",
      "É um número Par\n",
      "É um número impar.\n",
      "É um número Par\n",
      "É um número impar.\n",
      "É um número Par\n"
     ]
    }
   ],
   "source": [
    "for v in range(1,11):\n",
    "    if (v % 2 == 0):\n",
    "        print (\"É um número Par\")\n",
    "    else:\n",
    "        print (\"É um número impar.\")"
   ]
  },
  {
   "cell_type": "code",
   "execution_count": 75,
   "id": "8ced34bd",
   "metadata": {},
   "outputs": [
    {
     "name": "stdout",
     "output_type": "stream",
     "text": [
      "É um número impar.\n",
      "É um número impar.\n",
      "É um número impar.\n",
      "É um número impar.\n",
      "É um número impar.\n"
     ]
    }
   ],
   "source": [
    "for v in GRA:\n",
    "    if (v % 2 == 0):\n",
    "        print (\"É um número Par\")\n",
    "    else:\n",
    "        print (\"É um número impar.\")"
   ]
  },
  {
   "cell_type": "code",
   "execution_count": null,
   "id": "0060438c",
   "metadata": {},
   "outputs": [],
   "source": []
  },
  {
   "cell_type": "markdown",
   "id": "860dd80a",
   "metadata": {},
   "source": [
    "Encontrar o maior e o menor valor do intervalo de 1 até 10"
   ]
  },
  {
   "cell_type": "code",
   "execution_count": 86,
   "id": "b6c03c8e",
   "metadata": {},
   "outputs": [],
   "source": [
    "menor=1\n",
    "maior=1\n",
    "\n",
    "valor = [5,6,3,4,5,2,6,12,5]\n",
    "for v in valor:\n",
    "    if (v > maior):\n",
    "        maior = v\n",
    "    if (v < menor):\n",
    "        menor = v"
   ]
  },
  {
   "cell_type": "code",
   "execution_count": 87,
   "id": "acd482aa",
   "metadata": {},
   "outputs": [
    {
     "name": "stdout",
     "output_type": "stream",
     "text": [
      "1\n"
     ]
    }
   ],
   "source": [
    "print (menor)"
   ]
  },
  {
   "cell_type": "code",
   "execution_count": 88,
   "id": "1d6bf6e1",
   "metadata": {},
   "outputs": [
    {
     "name": "stdout",
     "output_type": "stream",
     "text": [
      "12\n"
     ]
    }
   ],
   "source": [
    "print (maior)"
   ]
  },
  {
   "cell_type": "code",
   "execution_count": null,
   "id": "4c460d6f",
   "metadata": {},
   "outputs": [],
   "source": []
  },
  {
   "cell_type": "markdown",
   "id": "667eb213",
   "metadata": {},
   "source": [
    "Imprimir na tela somente os valores armazenados num vetor, onde o índice do vetor é par.\n"
   ]
  },
  {
   "cell_type": "code",
   "execution_count": 89,
   "id": "d603cc3f",
   "metadata": {},
   "outputs": [
    {
     "name": "stdout",
     "output_type": "stream",
     "text": [
      "1.55\n",
      "Posição par. Valor:  1.55\n",
      "1.99\n",
      "Posição impar. Valor:  1.99\n",
      "2.05\n",
      "Posição par. Valor:  2.05\n",
      "3.15\n",
      "Posição impar. Valor:  3.15\n",
      "2.01\n",
      "Posição par. Valor:  2.01\n"
     ]
    }
   ],
   "source": [
    "for v in range(0,len(GRA)):\n",
    "    print (GRA[v])\n",
    "    if (v % 2 == 0):\n",
    "        print (\"Posição par. Valor: \", GRA[v])\n",
    "    else: \n",
    "        print (\"Posição impar. Valor: \", GRA[v])"
   ]
  },
  {
   "cell_type": "code",
   "execution_count": 90,
   "id": "56444832",
   "metadata": {},
   "outputs": [
    {
     "data": {
      "text/plain": [
       "[[1.55, 1.99, 2.05, 3.15, 2.01],\n",
       " [1708, 1701, 1699, 1702, 1709],\n",
       " [80.5, 80.1, 70.3, 75.1, 69.8]]"
      ]
     },
     "execution_count": 90,
     "metadata": {},
     "output_type": "execute_result"
    }
   ],
   "source": [
    "leitura_pocoX"
   ]
  },
  {
   "cell_type": "code",
   "execution_count": 92,
   "id": "606b90a4",
   "metadata": {},
   "outputs": [
    {
     "name": "stdout",
     "output_type": "stream",
     "text": [
      "1.55\n",
      "1.99\n",
      "2.05\n",
      "3.15\n",
      "2.01\n",
      "1708\n",
      "1701\n",
      "1699\n",
      "1702\n",
      "1709\n",
      "80.5\n",
      "80.1\n",
      "70.3\n",
      "75.1\n",
      "69.8\n"
     ]
    }
   ],
   "source": [
    "# x - linha\n",
    "# y - coluna\n",
    "for x in range (0, len(leitura_pocoX)):\n",
    "    for y in range (0,len(leitura_pocoX[0])):\n",
    "        print (leitura_pocoX[x][y])"
   ]
  },
  {
   "cell_type": "markdown",
   "id": "43560da2",
   "metadata": {},
   "source": [
    "x=0   y=0, y=1, y=2,...\n",
    "x=1     y=0, y=1,..."
   ]
  },
  {
   "cell_type": "code",
   "execution_count": 93,
   "id": "ba290ba8",
   "metadata": {},
   "outputs": [
    {
     "name": "stdout",
     "output_type": "stream",
     "text": [
      "1.55\n",
      "1701\n",
      "70.3\n"
     ]
    }
   ],
   "source": [
    "for x in range (0, len(leitura_pocoX)):\n",
    "    for y in range (0,len(leitura_pocoX[0])):\n",
    "        if (x == y):\n",
    "            print (leitura_pocoX[x][y])"
   ]
  },
  {
   "cell_type": "code",
   "execution_count": 97,
   "id": "ec09723c",
   "metadata": {},
   "outputs": [],
   "source": [
    "for x in range (0, len(leitura_pocoX)):\n",
    "    for y in range (0,len(leitura_pocoX[0])):\n",
    "        if (x == y):\n",
    "            leitura_pocoX[x][y] = leitura_pocoX[x][y] - join_media_soma[1][0]"
   ]
  },
  {
   "cell_type": "code",
   "execution_count": 98,
   "id": "2083c55b",
   "metadata": {},
   "outputs": [
    {
     "data": {
      "text/plain": [
       "[[1.5500000000000003, 1.99, 2.05, 3.15, 2.01],\n",
       " [1708, 1701.0, 1699, 1702, 1709],\n",
       " [80.5, 80.1, 70.3, 75.1, 69.8]]"
      ]
     },
     "execution_count": 98,
     "metadata": {},
     "output_type": "execute_result"
    }
   ],
   "source": [
    "leitura_pocoX"
   ]
  },
  {
   "cell_type": "code",
   "execution_count": null,
   "id": "dc0d3aee",
   "metadata": {},
   "outputs": [],
   "source": []
  },
  {
   "cell_type": "code",
   "execution_count": null,
   "id": "99fa8989",
   "metadata": {},
   "outputs": [],
   "source": []
  },
  {
   "cell_type": "code",
   "execution_count": null,
   "id": "b5eee917",
   "metadata": {},
   "outputs": [],
   "source": []
  },
  {
   "cell_type": "code",
   "execution_count": 99,
   "id": "1efb7899",
   "metadata": {},
   "outputs": [
    {
     "name": "stdout",
     "output_type": "stream",
     "text": [
      "0\n",
      "1\n",
      "2\n",
      "3\n"
     ]
    }
   ],
   "source": [
    "n=0\n",
    "while n<=3:    #  n <=3 -teste lógico - saída do tipo booleano\n",
    "    print (n)\n",
    "    n += 1    #variável para controlar a execução do while - n = n + 1"
   ]
  },
  {
   "cell_type": "code",
   "execution_count": 4,
   "id": "df5c2d22",
   "metadata": {},
   "outputs": [
    {
     "name": "stdout",
     "output_type": "stream",
     "text": [
      "Digite um número inteiro (-1 para sair ou quit após execução)4\n",
      "Digite uma palavra: adg\n",
      "Palavra muito pequena\n",
      "Digite uma palavra: agsdg\n",
      "Palavra digitada está correta..\n",
      "Digite uma palavra: asgd\n",
      "Palavra digitada está correta..\n",
      "Digite uma palavra: sdg\n",
      "Palavra muito pequena\n",
      "Digite uma palavra: quit\n",
      "Finalizou a execução!\n",
      "código finalizado\n"
     ]
    }
   ],
   "source": [
    "n=0\n",
    "n = int (input(\"Digite um número inteiro (-1 para sair ou quit após execução)\"))\n",
    "while n != -1:\n",
    "    string_digitada = input(\"Digite uma palavra: \")\n",
    "    if string_digitada.lower() == \"quit\":\n",
    "        print(\"Finalizou a execução!\")\n",
    "        break\n",
    "    if len(string_digitada) <= 3:\n",
    "        print(\"Palavra muito pequena\")\n",
    "        continue\n",
    "    if len(string_digitada) > 3:\n",
    "        print(\"Palavra digitada está correta..\")\n",
    "\n",
    "print (\"código finalizado\")\n"
   ]
  },
  {
   "cell_type": "code",
   "execution_count": null,
   "id": "380cfc8e",
   "metadata": {},
   "outputs": [],
   "source": []
  },
  {
   "cell_type": "code",
   "execution_count": 5,
   "id": "16b7fe0c",
   "metadata": {},
   "outputs": [
    {
     "name": "stdout",
     "output_type": "stream",
     "text": [
      "[0, 1, 2, 3, 4]\n"
     ]
    }
   ],
   "source": [
    "seq = []\n",
    "i = 0\n",
    "while i < 5:\n",
    "\tnovo_elemento = i\n",
    "\tseq.append( novo_elemento )\n",
    "\ti = i + 1\n",
    "\n",
    "print (seq)\n"
   ]
  },
  {
   "cell_type": "code",
   "execution_count": 63,
   "id": "bc96a837",
   "metadata": {},
   "outputs": [
    {
     "data": {
      "text/plain": [
       "[1.55, 1.99, 2.05, 3.15, 2.01]"
      ]
     },
     "execution_count": 63,
     "metadata": {},
     "output_type": "execute_result"
    }
   ],
   "source": [
    "GRA"
   ]
  },
  {
   "cell_type": "code",
   "execution_count": 64,
   "id": "ece54815",
   "metadata": {},
   "outputs": [
    {
     "name": "stdout",
     "output_type": "stream",
     "text": [
      "1.55\n",
      "1.99\n",
      "2.05\n",
      "3.15\n",
      "2.01\n"
     ]
    }
   ],
   "source": [
    "p=0\n",
    "while p < len(GRA):\n",
    "    print (GRA[p])\n",
    "    p+=1\n",
    "    "
   ]
  },
  {
   "cell_type": "markdown",
   "id": "96f21ca4",
   "metadata": {},
   "source": [
    "Mostrar todos os valores de 1 até 10\n"
   ]
  },
  {
   "cell_type": "code",
   "execution_count": 65,
   "id": "86278813",
   "metadata": {},
   "outputs": [
    {
     "name": "stdout",
     "output_type": "stream",
     "text": [
      "1\n",
      "2\n",
      "3\n",
      "4\n",
      "5\n",
      "6\n",
      "7\n",
      "8\n",
      "9\n",
      "10\n"
     ]
    }
   ],
   "source": [
    "v=1\n",
    "while v <= 10:\n",
    "    print (v)\n",
    "    v+=1"
   ]
  },
  {
   "cell_type": "markdown",
   "id": "4284fa9a",
   "metadata": {},
   "source": [
    "Mostrar todos os valores de 10 até 1"
   ]
  },
  {
   "cell_type": "code",
   "execution_count": 67,
   "id": "1b8312a2",
   "metadata": {},
   "outputs": [
    {
     "name": "stdout",
     "output_type": "stream",
     "text": [
      "10\n",
      "9\n",
      "8\n",
      "7\n",
      "6\n",
      "5\n",
      "4\n",
      "3\n",
      "2\n",
      "1\n"
     ]
    }
   ],
   "source": [
    "v=10\n",
    "while v > 0:\n",
    "    print (v)\n",
    "    v-=1"
   ]
  },
  {
   "cell_type": "code",
   "execution_count": 70,
   "id": "7043f877",
   "metadata": {},
   "outputs": [
    {
     "data": {
      "text/plain": [
       "[80.5, 80.1, 70.3, 75.1, 69.8]"
      ]
     },
     "execution_count": 70,
     "metadata": {},
     "output_type": "execute_result"
    }
   ],
   "source": [
    "NGR"
   ]
  },
  {
   "cell_type": "code",
   "execution_count": null,
   "id": "dcc295e7",
   "metadata": {},
   "outputs": [],
   "source": []
  },
  {
   "attachments": {},
   "cell_type": "markdown",
   "id": "76ad9a2e",
   "metadata": {},
   "source": [
    "Digitar 3 números inteiros, armazenar em vetor, realizar a soma e média."
   ]
  },
  {
   "cell_type": "code",
   "execution_count": null,
   "id": "33ce1c6c",
   "metadata": {},
   "outputs": [],
   "source": [
    "leitura_propri_100m = [1.99,1700,80.6]"
   ]
  },
  {
   "cell_type": "code",
   "execution_count": 75,
   "id": "b92b44b3",
   "metadata": {},
   "outputs": [
    {
     "name": "stdout",
     "output_type": "stream",
     "text": [
      "Digite o valor da propriedade: GRA1.99\n",
      "Digite o valor da propriedade: P_wave1700\n",
      "Digite o valor da propriedade: NGR80.6\n"
     ]
    }
   ],
   "source": [
    "n=0\n",
    "leitura_propri_100m = []\n",
    "while n<3:\n",
    "    if (n==0):\n",
    "        propriedade = 'GRA'\n",
    "    elif (n == 1):\n",
    "        propriedade = 'P_wave'\n",
    "    else:\n",
    "        propriedade = 'NGR'\n",
    "        \n",
    "    valor = input (\"Digite o valor da propriedade: \" + propriedade)\n",
    "    \n",
    "    leitura_propri_100m.append(valor)\n",
    "    \n",
    "    n+=1"
   ]
  },
  {
   "cell_type": "code",
   "execution_count": 76,
   "id": "58247fe6",
   "metadata": {},
   "outputs": [
    {
     "data": {
      "text/plain": [
       "['1.99', '1700', '80.6']"
      ]
     },
     "execution_count": 76,
     "metadata": {},
     "output_type": "execute_result"
    }
   ],
   "source": [
    "leitura_propri_100m"
   ]
  },
  {
   "cell_type": "code",
   "execution_count": null,
   "id": "ec7ce1c2",
   "metadata": {},
   "outputs": [],
   "source": [
    "for n in GRA:\n",
    "    print (n)"
   ]
  },
  {
   "cell_type": "code",
   "execution_count": null,
   "id": "cd26e351",
   "metadata": {},
   "outputs": [],
   "source": [
    "n=10\n",
    "while n>1:\n",
    "    n-=1"
   ]
  }
 ],
 "metadata": {
  "kernelspec": {
   "display_name": "Python 3",
   "language": "python",
   "name": "python3"
  },
  "language_info": {
   "codemirror_mode": {
    "name": "ipython",
    "version": 3
   },
   "file_extension": ".py",
   "mimetype": "text/x-python",
   "name": "python",
   "nbconvert_exporter": "python",
   "pygments_lexer": "ipython3",
   "version": "3.8.10"
  }
 },
 "nbformat": 4,
 "nbformat_minor": 5
}
