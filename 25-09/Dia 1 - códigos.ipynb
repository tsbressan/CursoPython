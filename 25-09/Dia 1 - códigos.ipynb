{
 "cells": [
  {
   "cell_type": "code",
   "execution_count": null,
   "metadata": {},
   "outputs": [],
   "source": []
  },
  {
   "cell_type": "code",
   "execution_count": 3,
   "metadata": {},
   "outputs": [
    {
     "name": "stdout",
     "output_type": "stream",
     "text": [
      "5.25 4 4 1045760 3.0 3 3 4 3 4\n"
     ]
    }
   ],
   "source": [
    "a = float(21/4) \n",
    "b = int(4.8) \n",
    "c = int(4.9) \n",
    "d = int(0xff500) \n",
    "e = float(int(3.9)) \n",
    "f = int(float(3.9)) \n",
    "g = int(float(3)) \n",
    "h = round(3.9) \n",
    "i = round(3) \n",
    "j = int(round(3.9)) \n",
    "print (a,b,c,d,e,f,g,h,i,j)\n"
   ]
  },
  {
   "cell_type": "code",
   "execution_count": 12,
   "metadata": {},
   "outputs": [
    {
     "name": "stdout",
     "output_type": "stream",
     "text": [
      "Nome: CARLOS, Sobrenome: Santini\n",
      "Nome: CARLOS, Sobrenome: Santini\n",
      "Nome: CARLOS, Sobrenome: Santini\n",
      "Meu nome começa com a letra  C\n",
      "Meu nome começa com a letra  c\n",
      "Meu primeiro nome é  Carlos\n",
      "Meu sobrenome é  Santini\n"
     ]
    }
   ],
   "source": [
    "meu_nome = \"Carlos\"\n",
    "meu_sobrenome = 'Santini'\n",
    "\n",
    "print (\"Nome: %s, Sobrenome: %s\" % (meu_nome.upper(), meu_sobrenome)) \n",
    "print (f'Nome: {meu_nome.upper()}, Sobrenome: {meu_sobrenome}') #Formatted string literals ou f-string\n",
    "print(\"Nome: {0}, Sobrenome: {1}\".format(meu_nome.upper(), meu_sobrenome)) #new-style string formatting\n",
    "\n",
    "print (\"Meu nome começa com a letra \", meu_nome[0]) \n",
    "print (\"Meu nome começa com a letra \", meu_nome[0].lower()) \n",
    "print (\"Meu primeiro nome é \", meu_nome[0:6])\n",
    "print (\"Meu sobrenome é \", meu_sobrenome[0:7])\n",
    "\n",
    "\n"
   ]
  },
  {
   "cell_type": "code",
   "execution_count": null,
   "metadata": {},
   "outputs": [],
   "source": []
  },
  {
   "cell_type": "code",
   "execution_count": null,
   "metadata": {},
   "outputs": [],
   "source": []
  },
  {
   "cell_type": "code",
   "execution_count": null,
   "metadata": {},
   "outputs": [],
   "source": []
  }
 ],
 "metadata": {
  "kernelspec": {
   "display_name": "Python 3",
   "language": "python",
   "name": "python3"
  },
  "language_info": {
   "codemirror_mode": {
    "name": "ipython",
    "version": 3
   },
   "file_extension": ".py",
   "mimetype": "text/x-python",
   "name": "python",
   "nbconvert_exporter": "python",
   "pygments_lexer": "ipython3",
   "version": "3.7.3"
  }
 },
 "nbformat": 4,
 "nbformat_minor": 2
}
