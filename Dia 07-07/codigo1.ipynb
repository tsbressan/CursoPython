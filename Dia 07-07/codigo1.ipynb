{
 "cells": [
  {
   "cell_type": "markdown",
   "id": "111a27be",
   "metadata": {},
   "source": [
    "## código de import"
   ]
  },
  {
   "cell_type": "code",
   "execution_count": null,
   "id": "ada0b2a6",
   "metadata": {},
   "outputs": [],
   "source": [
    "import ......"
   ]
  },
  {
   "cell_type": "code",
   "execution_count": 11,
   "id": "95cea512",
   "metadata": {},
   "outputs": [],
   "source": [
    "#códigos\n",
    "GRA_depth100 = 1030.55\n",
    "pwave_depth100 = 201"
   ]
  },
  {
   "cell_type": "code",
   "execution_count": 35,
   "id": "0ab7f7f9",
   "metadata": {},
   "outputs": [],
   "source": [
    "#tipo de dado - inteiro\n",
    "numero1 = 10\n",
    "numero2 = 20\n",
    "\n",
    "#tipo de dado - float\n",
    "numero3 = 2.5\n",
    "\n",
    "#tipo de dado - long\n",
    "a = 145897896254666\n",
    "\n",
    "#tipo de dado - boolean\n",
    "b = True\n",
    "c = False\n",
    "\n",
    "#tipo de dado - none\n",
    "d = None\n",
    "\n",
    "#tipo de dado - string\n",
    "e = \"Curso\"\n"
   ]
  },
  {
   "cell_type": "code",
   "execution_count": 38,
   "id": "dcbb7838",
   "metadata": {},
   "outputs": [
    {
     "data": {
      "text/plain": [
       "int"
      ]
     },
     "execution_count": 38,
     "metadata": {},
     "output_type": "execute_result"
    }
   ],
   "source": [
    "#função específica para mostrar o tipo da variável\n",
    "type (numero1)"
   ]
  },
  {
   "cell_type": "code",
   "execution_count": 19,
   "id": "637ec9e0",
   "metadata": {},
   "outputs": [],
   "source": [
    "soma = numero1 + numero2"
   ]
  },
  {
   "cell_type": "code",
   "execution_count": 32,
   "id": "56235191",
   "metadata": {},
   "outputs": [
    {
     "name": "stdout",
     "output_type": "stream",
     "text": [
      "'Curso'\n"
     ]
    }
   ],
   "source": [
    "print (e)"
   ]
  },
  {
   "cell_type": "code",
   "execution_count": null,
   "id": "59d97289",
   "metadata": {},
   "outputs": [],
   "source": []
  },
  {
   "cell_type": "code",
   "execution_count": 42,
   "id": "72b8f555",
   "metadata": {},
   "outputs": [],
   "source": [
    "meu_nome = \"Carlos\"\n",
    "meu_sobrenome = 'Santini'\n"
   ]
  },
  {
   "cell_type": "code",
   "execution_count": 46,
   "id": "0e43453e",
   "metadata": {},
   "outputs": [
    {
     "name": "stdout",
     "output_type": "stream",
     "text": [
      "CARLOS\n"
     ]
    }
   ],
   "source": [
    "#string em maiuscula ou caixa alta.\n",
    "print (meu_nome.upper())"
   ]
  },
  {
   "cell_type": "code",
   "execution_count": 60,
   "id": "def077ee",
   "metadata": {},
   "outputs": [
    {
     "name": "stdout",
     "output_type": "stream",
     "text": [
      "Carlos\n"
     ]
    }
   ],
   "source": [
    "print (meu_nome[0:6])"
   ]
  },
  {
   "cell_type": "code",
   "execution_count": 44,
   "id": "d5ea7f3c",
   "metadata": {},
   "outputs": [
    {
     "name": "stdout",
     "output_type": "stream",
     "text": [
      "Nome: Carlos, Sobrenome: Santini\n",
      "Nome: Carlos, Sobrenome: Santini\n",
      "Nome: Carlos, Sobrenome: Santini\n"
     ]
    }
   ],
   "source": [
    "print (\"Nome: %s, Sobrenome: %s\" % (meu_nome, meu_sobrenome)) \n",
    "print (f'Nome: {meu_nome}, Sobrenome: {meu_sobrenome}') #Formatted string literals ou f-string\n",
    "print(\"Nome: {0}, Sobrenome: {1}\".format(meu_nome, meu_sobrenome)) #new-style string formatting\n"
   ]
  },
  {
   "cell_type": "code",
   "execution_count": 53,
   "id": "06583674",
   "metadata": {},
   "outputs": [
    {
     "name": "stdout",
     "output_type": "stream",
     "text": [
      "Meu nome começa com a letra  C\n",
      "Meu nome começa com a letra  c\n",
      "Meu primeiro nome é  Carlos\n",
      "Meu sobrenome é  Santini\n"
     ]
    }
   ],
   "source": [
    "print (\"Meu nome começa com a letra \", meu_nome[0]) \n",
    "print (\"Meu nome começa com a letra \", meu_nome[0].lower()) \n",
    "print (\"Meu primeiro nome é \", meu_nome[0:6])\n",
    "print (\"Meu sobrenome é \", meu_sobrenome[0:7])"
   ]
  },
  {
   "cell_type": "code",
   "execution_count": 61,
   "id": "cf27bde2",
   "metadata": {},
   "outputs": [],
   "source": [
    "parte1 = meu_nome[0:2]\n",
    "parte2 = meu_nome[2:6]"
   ]
  },
  {
   "cell_type": "code",
   "execution_count": 62,
   "id": "8774a11f",
   "metadata": {},
   "outputs": [
    {
     "name": "stdout",
     "output_type": "stream",
     "text": [
      "Ca\n"
     ]
    }
   ],
   "source": [
    "print (parte1)"
   ]
  },
  {
   "cell_type": "code",
   "execution_count": 63,
   "id": "c5a32e96",
   "metadata": {},
   "outputs": [
    {
     "name": "stdout",
     "output_type": "stream",
     "text": [
      "rlos\n"
     ]
    }
   ],
   "source": [
    "print (parte2)"
   ]
  },
  {
   "cell_type": "code",
   "execution_count": 102,
   "id": "66c0eec2",
   "metadata": {},
   "outputs": [],
   "source": [
    "#conversão de dados\n",
    "convert1 = float(20/4)\n",
    "convert2 = int(20/4)\n",
    "convert3 = int(4.8) \n",
    "convert4 = int(float(3.9)) \n",
    "convert5 = round(3.9) #arredondar valores\n",
    "convert6 = int(round(3.9)) \n",
    "\n",
    "# a divisão sempre vai gerar um tipo float"
   ]
  },
  {
   "cell_type": "code",
   "execution_count": 91,
   "id": "eabdbbce",
   "metadata": {},
   "outputs": [
    {
     "data": {
      "text/plain": [
       "float"
      ]
     },
     "execution_count": 91,
     "metadata": {},
     "output_type": "execute_result"
    }
   ],
   "source": [
    "type(convert1)"
   ]
  },
  {
   "cell_type": "code",
   "execution_count": 92,
   "id": "b7eff870",
   "metadata": {},
   "outputs": [
    {
     "data": {
      "text/plain": [
       "int"
      ]
     },
     "execution_count": 92,
     "metadata": {},
     "output_type": "execute_result"
    }
   ],
   "source": [
    "type(convert2)"
   ]
  },
  {
   "cell_type": "code",
   "execution_count": 93,
   "id": "4be4eeb9",
   "metadata": {},
   "outputs": [
    {
     "name": "stdout",
     "output_type": "stream",
     "text": [
      "10.0\n"
     ]
    }
   ],
   "source": [
    "print (convert1 + convert2)"
   ]
  },
  {
   "cell_type": "code",
   "execution_count": 103,
   "id": "0967c323",
   "metadata": {},
   "outputs": [
    {
     "name": "stdout",
     "output_type": "stream",
     "text": [
      "4\n"
     ]
    }
   ],
   "source": [
    "print (convert6)"
   ]
  },
  {
   "cell_type": "code",
   "execution_count": 1,
   "id": "4bd6ea95",
   "metadata": {},
   "outputs": [
    {
     "name": "stdout",
     "output_type": "stream",
     "text": [
      "Qual é o seu nome? 10\n"
     ]
    }
   ],
   "source": [
    "nome = input (\"Qual é o seu nome? \")"
   ]
  },
  {
   "cell_type": "code",
   "execution_count": 3,
   "id": "12d79415",
   "metadata": {},
   "outputs": [
    {
     "data": {
      "text/plain": [
       "str"
      ]
     },
     "execution_count": 3,
     "metadata": {},
     "output_type": "execute_result"
    }
   ],
   "source": [
    "type(nome)"
   ]
  },
  {
   "cell_type": "code",
   "execution_count": null,
   "id": "87e84aa9",
   "metadata": {},
   "outputs": [],
   "source": [
    "nome1 = input (\"Qual é o seu Sobrenome? \")"
   ]
  },
  {
   "cell_type": "code",
   "execution_count": 109,
   "id": "150a9d01",
   "metadata": {},
   "outputs": [
    {
     "name": "stdout",
     "output_type": "stream",
     "text": [
      "O seu nome é: dia 07 de julho\n"
     ]
    }
   ],
   "source": [
    "print (\"O seu nome é:\", nome)"
   ]
  },
  {
   "cell_type": "code",
   "execution_count": 4,
   "id": "0c810b62",
   "metadata": {},
   "outputs": [
    {
     "name": "stdout",
     "output_type": "stream",
     "text": [
      "10\n"
     ]
    }
   ],
   "source": [
    "print (int(nome))"
   ]
  },
  {
   "cell_type": "code",
   "execution_count": 5,
   "id": "475fe62e",
   "metadata": {},
   "outputs": [
    {
     "name": "stdout",
     "output_type": "stream",
     "text": [
      "Digite o primeiro numero: 5\n",
      "Digite o segundo numero: 6\n",
      "A soma de 5 + 6 e igual a 11\n"
     ]
    }
   ],
   "source": [
    "a = input(\"Digite o primeiro numero: \")\n",
    "b = input(\"Digite o segundo numero: \")\n",
    "soma = int(a) + int(b)\n",
    "print(\"A soma de\", a, \"+\", b, \"e igual a\", soma)\n"
   ]
  },
  {
   "cell_type": "code",
   "execution_count": null,
   "id": "4fa43f90",
   "metadata": {},
   "outputs": [],
   "source": []
  }
 ],
 "metadata": {
  "kernelspec": {
   "display_name": "Python 3",
   "language": "python",
   "name": "python3"
  },
  "language_info": {
   "codemirror_mode": {
    "name": "ipython",
    "version": 3
   },
   "file_extension": ".py",
   "mimetype": "text/x-python",
   "name": "python",
   "nbconvert_exporter": "python",
   "pygments_lexer": "ipython3",
   "version": "3.8.10"
  }
 },
 "nbformat": 4,
 "nbformat_minor": 5
}
