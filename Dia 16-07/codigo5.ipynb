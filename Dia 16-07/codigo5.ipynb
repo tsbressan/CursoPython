{
 "cells": [
  {
   "cell_type": "code",
   "execution_count": 102,
   "id": "c4460a92",
   "metadata": {},
   "outputs": [],
   "source": [
    "class coletaValores:\n",
    "    gravar_dados_geo = []\n",
    "    gravar_dados_agua = []\n",
    "    \n",
    "    def Leitura_Dados_Geo(self,nome_propriedade, valor, profundidade, local):\n",
    "        print (\"Nome da propriedade:\", nome_propriedade)\n",
    "        print (\"Valor de leitura: \", valor)\n",
    "        print (\"Profundiade de leitura: \", profundidade)\n",
    "        print (\"Local: \", local)\n",
    "        self.gravar_dados_geo.append([nome_propriedade, valor, profundidade, local])\n",
    "        \n",
    "    def Leitura_Dados_agua(self,nome_local, codigo, nome_propriedade, valor, tipo_monit):\n",
    "        print (\"Nome da propriedade:\", nome_propriedade)\n",
    "        print (\"Valor de leitura: \", valor)\n",
    "        print (\"Nome do Local: \", nome_local)\n",
    "        print (\"Código da amostra: \", codigo)\n",
    "        print (\"Tipo de monitoramento: \", tipo_monit)\n",
    "        self.gravar_dados_agua.append([nome_local, codigo, nome_propriedade, valor, tipo_monit])\n",
    "        \n",
    "    def calcula_media (self,soma, qtd):\n",
    "        media = soma/qtd\n",
    "        print(\" A média é: \", round(media, 2)) \n",
    "        \n",
    "    def imprimir_dados1(self):\n",
    "        return self.gravar_dados_geo\n",
    "        \n",
    "    def imprimir_dados2(self):\n",
    "        return self.gravar_dados_agua   \n",
    "    \n",
    "    def imprimir_dados1_order(self):\n",
    "        return sorted(self.gravar_dados_geo) #ordenar os dados dentro da matriz\n",
    "    \n",
    "    def imprimir_dados2_order(self):\n",
    "        return sorted(self.gravar_dados_agua)\n",
    "\n",
    "    def imprimir_maior_valor(self):\n",
    "        maior=0\n",
    "        for n in range (0, len(self.gravar_dados_geo)):\n",
    "            if (self.gravar_dados_geo[n][1] > maior):\n",
    "                maior = self.gravar_dados_geo[n][1] \n",
    "                \n",
    "        return maior"
   ]
  },
  {
   "cell_type": "code",
   "execution_count": null,
   "id": "0f1fa91f",
   "metadata": {},
   "outputs": [],
   "source": []
  },
  {
   "cell_type": "code",
   "execution_count": 21,
   "id": "05323564",
   "metadata": {},
   "outputs": [],
   "source": [
    "def Leitura_Dados(nome_propriedade, valor, profundidade, local):\n",
    "    print (\"Nome da propriedade:\", nome_propriedade)\n",
    "    print (\"Valor de leitura: \", valor)\n",
    "    print (\"Profundiade de leitura: \", profundidade)\n",
    "    print (\"Local: \", local)"
   ]
  },
  {
   "cell_type": "code",
   "execution_count": 18,
   "id": "cdf59f37",
   "metadata": {},
   "outputs": [],
   "source": [
    "def calcula_media (soma, qtd):\n",
    "    media = soma/qtd\n",
    "    print(\" A média é: \", round(media, 2))\n"
   ]
  },
  {
   "cell_type": "code",
   "execution_count": 24,
   "id": "f31dcc18",
   "metadata": {},
   "outputs": [],
   "source": [
    "def calcular_media1 (Numeros):\n",
    "    soma = 0\n",
    "    for n in list(range(0, len(Numeros))):\n",
    "        soma = soma + Numeros[n]\n",
    "                  \n",
    "    media = soma / len(Numeros)  \n",
    "    print(\"A média é: \", media)"
   ]
  },
  {
   "cell_type": "code",
   "execution_count": null,
   "id": "e9379ff3",
   "metadata": {},
   "outputs": [],
   "source": []
  },
  {
   "cell_type": "code",
   "execution_count": 22,
   "id": "d8040fce",
   "metadata": {},
   "outputs": [
    {
     "name": "stdout",
     "output_type": "stream",
     "text": [
      "Nome da propriedade: p-wave\n",
      "Valor de leitura:  1500\n",
      "Profundiade de leitura:  100.0\n",
      "Local:  BR001\n"
     ]
    }
   ],
   "source": [
    "Leitura_Dados(\"p-wave\", 1500, 100.0, \"BR001\")"
   ]
  },
  {
   "cell_type": "code",
   "execution_count": 23,
   "id": "32a9ec93",
   "metadata": {},
   "outputs": [
    {
     "name": "stdout",
     "output_type": "stream",
     "text": [
      "Nome da propriedade: GRA\n",
      "Valor de leitura:  50.5\n",
      "Profundiade de leitura:  100.0\n",
      "Local:  BR001\n"
     ]
    }
   ],
   "source": [
    "Leitura_Dados(\"GRA\", 50.5, 100.00, \"BR001\")"
   ]
  },
  {
   "cell_type": "code",
   "execution_count": null,
   "id": "18b78adc",
   "metadata": {},
   "outputs": [],
   "source": []
  },
  {
   "cell_type": "code",
   "execution_count": 19,
   "id": "74ae3286",
   "metadata": {},
   "outputs": [
    {
     "name": "stdout",
     "output_type": "stream",
     "text": [
      "Digite o valor do 1º número: 6\n",
      "Digite o valor do 2º número: 8\n",
      " A média é:  7.0\n"
     ]
    }
   ],
   "source": [
    "num1= float(input(\"Digite o valor do 1º número: \"))\n",
    "num2= float(input(\"Digite o valor do 2º número: \"))\n",
    "\n",
    "soma = num1+num2\n",
    "calcula_media(soma, 2)"
   ]
  },
  {
   "cell_type": "code",
   "execution_count": 20,
   "id": "14be1b0f",
   "metadata": {},
   "outputs": [
    {
     "name": "stdout",
     "output_type": "stream",
     "text": [
      "Digite o valor do 1º número: 10\n",
      "Digite o valor do 2º número: 14\n",
      " A média é:  12.0\n"
     ]
    }
   ],
   "source": [
    "num1= float(input(\"Digite o valor do 1º número: \"))\n",
    "num2= float(input(\"Digite o valor do 2º número: \"))\n",
    "\n",
    "soma = num1+num2\n",
    "calcula_media(soma, 2)"
   ]
  },
  {
   "cell_type": "code",
   "execution_count": 27,
   "id": "018e1eb6",
   "metadata": {},
   "outputs": [
    {
     "name": "stdout",
     "output_type": "stream",
     "text": [
      "Quantos números gostaria de digitar?2\n",
      "Digite o número : 9.5\n",
      "Digite o número : 9.6\n",
      "A média é:  9.55\n"
     ]
    }
   ],
   "source": [
    "Numeros = []\n",
    "num = int(input(\"Quantos números gostaria de digitar?\"))\n",
    "\n",
    "for n in range(0, num):\n",
    "    num1 = float((input (\"Digite o número : \")))\n",
    "    Numeros.append(num1)\n",
    "    \n",
    "calcular_media1(Numeros)"
   ]
  },
  {
   "cell_type": "code",
   "execution_count": null,
   "id": "8c2b0daa",
   "metadata": {},
   "outputs": [],
   "source": []
  },
  {
   "cell_type": "code",
   "execution_count": 103,
   "id": "db0bc0ac",
   "metadata": {},
   "outputs": [],
   "source": [
    "coleta1 = coletaValores()  #instancia da classe"
   ]
  },
  {
   "cell_type": "code",
   "execution_count": 104,
   "id": "bef942c4",
   "metadata": {},
   "outputs": [
    {
     "name": "stdout",
     "output_type": "stream",
     "text": [
      "Nome da propriedade: GRA\n",
      "Valor de leitura:  50.5\n",
      "Profundiade de leitura:  100\n",
      "Local:  Furo001\n"
     ]
    }
   ],
   "source": [
    "coleta1.Leitura_Dados_Geo(\"GRA\", 50.5, 100, \"Furo001\")  #acessar uma função(ou método)"
   ]
  },
  {
   "cell_type": "code",
   "execution_count": 105,
   "id": "0770f445",
   "metadata": {},
   "outputs": [
    {
     "name": "stdout",
     "output_type": "stream",
     "text": [
      "Nome da propriedade: Ferro\n",
      "Valor de leitura:  3.84\n",
      "Nome do Local:  lagoa01\n",
      "Código da amostra:  001AB\n",
      "Tipo de monitoramento:  superficie\n"
     ]
    }
   ],
   "source": [
    "coleta1.Leitura_Dados_agua(\"lagoa01\", \"001AB\", \"Ferro\", 3.84, \"superficie\")"
   ]
  },
  {
   "cell_type": "code",
   "execution_count": 106,
   "id": "20ea8315",
   "metadata": {},
   "outputs": [
    {
     "name": "stdout",
     "output_type": "stream",
     "text": [
      "Nome da propriedade: p-wave\n",
      "Valor de leitura:  1550.5\n",
      "Profundiade de leitura:  120\n",
      "Local:  Furo002\n"
     ]
    }
   ],
   "source": [
    "coleta1.Leitura_Dados_Geo(\"p-wave\", 1550.5, 120, \"Furo002\") "
   ]
  },
  {
   "cell_type": "code",
   "execution_count": 107,
   "id": "e44d9c60",
   "metadata": {},
   "outputs": [
    {
     "name": "stdout",
     "output_type": "stream",
     "text": [
      "Nome da propriedade: Mg\n",
      "Valor de leitura:  14.5\n",
      "Nome do Local:  lagoa01\n",
      "Código da amostra:  002AB\n",
      "Tipo de monitoramento:  Subterranea\n"
     ]
    }
   ],
   "source": [
    "coleta1.Leitura_Dados_agua(\"lagoa01\", \"002AB\", \"Mg\", 14.5, \"Subterranea\")"
   ]
  },
  {
   "cell_type": "code",
   "execution_count": 108,
   "id": "eea9f50d",
   "metadata": {},
   "outputs": [
    {
     "data": {
      "text/plain": [
       "[['GRA', 50.5, 100, 'Furo001'], ['p-wave', 1550.5, 120, 'Furo002']]"
      ]
     },
     "execution_count": 108,
     "metadata": {},
     "output_type": "execute_result"
    }
   ],
   "source": [
    "coleta1.imprimir_dados1()"
   ]
  },
  {
   "cell_type": "code",
   "execution_count": 109,
   "id": "dfd487ec",
   "metadata": {},
   "outputs": [
    {
     "data": {
      "text/plain": [
       "[['lagoa01', '001AB', 'Ferro', 3.84, 'superficie'],\n",
       " ['lagoa01', '002AB', 'Mg', 14.5, 'Subterranea']]"
      ]
     },
     "execution_count": 109,
     "metadata": {},
     "output_type": "execute_result"
    }
   ],
   "source": [
    "coleta1.imprimir_dados2()"
   ]
  },
  {
   "cell_type": "code",
   "execution_count": 110,
   "id": "ca04c124",
   "metadata": {},
   "outputs": [
    {
     "name": "stdout",
     "output_type": "stream",
     "text": [
      "Nome da propriedade: NGR\n",
      "Valor de leitura:  10.5\n",
      "Profundiade de leitura:  120\n",
      "Local:  Furo003\n"
     ]
    }
   ],
   "source": [
    "coleta1.Leitura_Dados_Geo(\"NGR\", 10.5, 120, \"Furo003\")"
   ]
  },
  {
   "cell_type": "code",
   "execution_count": 111,
   "id": "e28b1cc3",
   "metadata": {},
   "outputs": [
    {
     "name": "stdout",
     "output_type": "stream",
     "text": [
      "Nome da propriedade: K\n",
      "Valor de leitura:  3.56\n",
      "Nome do Local:  lagoa03\n",
      "Código da amostra:  004AB\n",
      "Tipo de monitoramento:  Subterranea\n"
     ]
    }
   ],
   "source": [
    "coleta1.Leitura_Dados_agua(\"lagoa03\", \"004AB\", \"K\", 3.56, \"Subterranea\")"
   ]
  },
  {
   "cell_type": "code",
   "execution_count": 112,
   "id": "401f145f",
   "metadata": {},
   "outputs": [
    {
     "data": {
      "text/plain": [
       "[['GRA', 50.5, 100, 'Furo001'],\n",
       " ['p-wave', 1550.5, 120, 'Furo002'],\n",
       " ['NGR', 10.5, 120, 'Furo003']]"
      ]
     },
     "execution_count": 112,
     "metadata": {},
     "output_type": "execute_result"
    }
   ],
   "source": [
    "coleta1.imprimir_dados1()"
   ]
  },
  {
   "cell_type": "code",
   "execution_count": 113,
   "id": "a4b86545",
   "metadata": {},
   "outputs": [
    {
     "data": {
      "text/plain": [
       "[['lagoa01', '001AB', 'Ferro', 3.84, 'superficie'],\n",
       " ['lagoa01', '002AB', 'Mg', 14.5, 'Subterranea'],\n",
       " ['lagoa03', '004AB', 'K', 3.56, 'Subterranea']]"
      ]
     },
     "execution_count": 113,
     "metadata": {},
     "output_type": "execute_result"
    }
   ],
   "source": [
    "coleta1.imprimir_dados2()"
   ]
  },
  {
   "cell_type": "code",
   "execution_count": 114,
   "id": "5c2c5c42",
   "metadata": {},
   "outputs": [
    {
     "data": {
      "text/plain": [
       "[['GRA', 50.5, 100, 'Furo001'],\n",
       " ['NGR', 10.5, 120, 'Furo003'],\n",
       " ['p-wave', 1550.5, 120, 'Furo002']]"
      ]
     },
     "execution_count": 114,
     "metadata": {},
     "output_type": "execute_result"
    }
   ],
   "source": [
    "coleta1.imprimir_dados1_order()"
   ]
  },
  {
   "cell_type": "code",
   "execution_count": 115,
   "id": "9106815a",
   "metadata": {},
   "outputs": [
    {
     "data": {
      "text/plain": [
       "[['lagoa01', '001AB', 'Ferro', 3.84, 'superficie'],\n",
       " ['lagoa01', '002AB', 'Mg', 14.5, 'Subterranea'],\n",
       " ['lagoa03', '004AB', 'K', 3.56, 'Subterranea']]"
      ]
     },
     "execution_count": 115,
     "metadata": {},
     "output_type": "execute_result"
    }
   ],
   "source": [
    "coleta1.imprimir_dados2_order()"
   ]
  },
  {
   "cell_type": "code",
   "execution_count": 116,
   "id": "4272af22",
   "metadata": {},
   "outputs": [
    {
     "data": {
      "text/plain": [
       "1550.5"
      ]
     },
     "execution_count": 116,
     "metadata": {},
     "output_type": "execute_result"
    }
   ],
   "source": [
    "coleta1.imprimir_maior_valor()"
   ]
  },
  {
   "cell_type": "code",
   "execution_count": null,
   "id": "7a32b956",
   "metadata": {},
   "outputs": [],
   "source": []
  }
 ],
 "metadata": {
  "kernelspec": {
   "display_name": "Python 3",
   "language": "python",
   "name": "python3"
  },
  "language_info": {
   "codemirror_mode": {
    "name": "ipython",
    "version": 3
   },
   "file_extension": ".py",
   "mimetype": "text/x-python",
   "name": "python",
   "nbconvert_exporter": "python",
   "pygments_lexer": "ipython3",
   "version": "3.8.10"
  }
 },
 "nbformat": 4,
 "nbformat_minor": 5
}
