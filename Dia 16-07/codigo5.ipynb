{
 "cells": [
  {
   "cell_type": "code",
   "execution_count": 123,
   "id": "49353a86",
   "metadata": {},
   "outputs": [],
   "source": [
    "import math\n",
    "import string\n",
    "import os"
   ]
  },
  {
   "cell_type": "code",
   "execution_count": 102,
   "id": "414743d7",
   "metadata": {},
   "outputs": [],
   "source": [
    "class coletaValores:\n",
    "    gravar_dados_geo = []\n",
    "    gravar_dados_agua = []\n",
    "    \n",
    "    def Leitura_Dados_Geo(self,nome_propriedade, valor, profundidade, local):\n",
    "        print (\"Nome da propriedade:\", nome_propriedade)\n",
    "        print (\"Valor de leitura: \", valor)\n",
    "        print (\"Profundiade de leitura: \", profundidade)\n",
    "        print (\"Local: \", local)\n",
    "        self.gravar_dados_geo.append([nome_propriedade, valor, profundidade, local])\n",
    "        \n",
    "    def Leitura_Dados_agua(self,nome_local, codigo, nome_propriedade, valor, tipo_monit):\n",
    "        print (\"Nome da propriedade:\", nome_propriedade)\n",
    "        print (\"Valor de leitura: \", valor)\n",
    "        print (\"Nome do Local: \", nome_local)\n",
    "        print (\"Código da amostra: \", codigo)\n",
    "        print (\"Tipo de monitoramento: \", tipo_monit)\n",
    "        self.gravar_dados_agua.append([nome_local, codigo, nome_propriedade, valor, tipo_monit])\n",
    "        \n",
    "    def calcula_media (self,soma, qtd):\n",
    "        media = soma/qtd\n",
    "        print(\" A média é: \", round(media, 2)) \n",
    "        \n",
    "    def imprimir_dados1(self):\n",
    "        return self.gravar_dados_geo\n",
    "        \n",
    "    def imprimir_dados2(self):\n",
    "        return self.gravar_dados_agua   \n",
    "    \n",
    "    def imprimir_dados1_order(self):\n",
    "        return sorted(self.gravar_dados_geo) #ordenar os dados dentro da matriz\n",
    "    \n",
    "    def imprimir_dados2_order(self):\n",
    "        return sorted(self.gravar_dados_agua)\n",
    "\n",
    "    def imprimir_maior_valor(self):\n",
    "        maior=0\n",
    "        for n in range (0, len(self.gravar_dados_geo)):\n",
    "            if (self.gravar_dados_geo[n][1] > maior):\n",
    "                maior = self.gravar_dados_geo[n][1] \n",
    "                \n",
    "        return maior"
   ]
  },
  {
   "cell_type": "code",
   "execution_count": null,
   "id": "815866e7",
   "metadata": {},
   "outputs": [],
   "source": []
  },
  {
   "cell_type": "code",
   "execution_count": 21,
   "id": "89bdfb3f",
   "metadata": {},
   "outputs": [],
   "source": [
    "def Leitura_Dados(nome_propriedade, valor, profundidade, local):\n",
    "    print (\"Nome da propriedade:\", nome_propriedade)\n",
    "    print (\"Valor de leitura: \", valor)\n",
    "    print (\"Profundiade de leitura: \", profundidade)\n",
    "    print (\"Local: \", local)"
   ]
  },
  {
   "cell_type": "code",
   "execution_count": 18,
   "id": "07b9b688",
   "metadata": {},
   "outputs": [],
   "source": [
    "def calcula_media (soma, qtd):\n",
    "    media = soma/qtd\n",
    "    print(\" A média é: \", round(media, 2))\n"
   ]
  },
  {
   "cell_type": "code",
   "execution_count": 24,
   "id": "a4c94c99",
   "metadata": {},
   "outputs": [],
   "source": [
    "def calcular_media1 (Numeros):\n",
    "    soma = 0\n",
    "    for n in list(range(0, len(Numeros))):\n",
    "        soma = soma + Numeros[n]\n",
    "                  \n",
    "    media = soma / len(Numeros)  \n",
    "    print(\"A média é: \", media)"
   ]
  },
  {
   "cell_type": "code",
   "execution_count": null,
   "id": "59665a1c",
   "metadata": {},
   "outputs": [],
   "source": []
  },
  {
   "cell_type": "code",
   "execution_count": 22,
   "id": "a501420a",
   "metadata": {},
   "outputs": [
    {
     "name": "stdout",
     "output_type": "stream",
     "text": [
      "Nome da propriedade: p-wave\n",
      "Valor de leitura:  1500\n",
      "Profundiade de leitura:  100.0\n",
      "Local:  BR001\n"
     ]
    }
   ],
   "source": [
    "Leitura_Dados(\"p-wave\", 1500, 100.0, \"BR001\")"
   ]
  },
  {
   "cell_type": "code",
   "execution_count": 23,
   "id": "639d6f43",
   "metadata": {},
   "outputs": [
    {
     "name": "stdout",
     "output_type": "stream",
     "text": [
      "Nome da propriedade: GRA\n",
      "Valor de leitura:  50.5\n",
      "Profundiade de leitura:  100.0\n",
      "Local:  BR001\n"
     ]
    }
   ],
   "source": [
    "Leitura_Dados(\"GRA\", 50.5, 100.00, \"BR001\")"
   ]
  },
  {
   "cell_type": "code",
   "execution_count": null,
   "id": "286f068c",
   "metadata": {},
   "outputs": [],
   "source": []
  },
  {
   "cell_type": "code",
   "execution_count": 19,
   "id": "42c0c832",
   "metadata": {},
   "outputs": [
    {
     "name": "stdout",
     "output_type": "stream",
     "text": [
      "Digite o valor do 1º número: 6\n",
      "Digite o valor do 2º número: 8\n",
      " A média é:  7.0\n"
     ]
    }
   ],
   "source": [
    "num1= float(input(\"Digite o valor do 1º número: \"))\n",
    "num2= float(input(\"Digite o valor do 2º número: \"))\n",
    "\n",
    "soma = num1+num2\n",
    "calcula_media(soma, 2)"
   ]
  },
  {
   "cell_type": "code",
   "execution_count": 20,
   "id": "179259fd",
   "metadata": {},
   "outputs": [
    {
     "name": "stdout",
     "output_type": "stream",
     "text": [
      "Digite o valor do 1º número: 10\n",
      "Digite o valor do 2º número: 14\n",
      " A média é:  12.0\n"
     ]
    }
   ],
   "source": [
    "num1= float(input(\"Digite o valor do 1º número: \"))\n",
    "num2= float(input(\"Digite o valor do 2º número: \"))\n",
    "\n",
    "soma = num1+num2\n",
    "calcula_media(soma, 2)"
   ]
  },
  {
   "cell_type": "code",
   "execution_count": 27,
   "id": "e2c8a56a",
   "metadata": {},
   "outputs": [
    {
     "name": "stdout",
     "output_type": "stream",
     "text": [
      "Quantos números gostaria de digitar?2\n",
      "Digite o número : 9.5\n",
      "Digite o número : 9.6\n",
      "A média é:  9.55\n"
     ]
    }
   ],
   "source": [
    "Numeros = []\n",
    "num = int(input(\"Quantos números gostaria de digitar?\"))\n",
    "\n",
    "for n in range(0, num):\n",
    "    num1 = float((input (\"Digite o número : \")))\n",
    "    Numeros.append(num1)\n",
    "    \n",
    "calcular_media1(Numeros)"
   ]
  },
  {
   "cell_type": "code",
   "execution_count": null,
   "id": "a951f0f0",
   "metadata": {},
   "outputs": [],
   "source": []
  },
  {
   "cell_type": "code",
   "execution_count": 103,
   "id": "d4a69ced",
   "metadata": {},
   "outputs": [],
   "source": [
    "coleta1 = coletaValores()  #instancia da classe"
   ]
  },
  {
   "cell_type": "code",
   "execution_count": 104,
   "id": "7e472dc9",
   "metadata": {},
   "outputs": [
    {
     "name": "stdout",
     "output_type": "stream",
     "text": [
      "Nome da propriedade: GRA\n",
      "Valor de leitura:  50.5\n",
      "Profundiade de leitura:  100\n",
      "Local:  Furo001\n"
     ]
    }
   ],
   "source": [
    "coleta1.Leitura_Dados_Geo(\"GRA\", 50.5, 100, \"Furo001\")  #acessar uma função(ou método)"
   ]
  },
  {
   "cell_type": "code",
   "execution_count": 105,
   "id": "735abbdf",
   "metadata": {},
   "outputs": [
    {
     "name": "stdout",
     "output_type": "stream",
     "text": [
      "Nome da propriedade: Ferro\n",
      "Valor de leitura:  3.84\n",
      "Nome do Local:  lagoa01\n",
      "Código da amostra:  001AB\n",
      "Tipo de monitoramento:  superficie\n"
     ]
    }
   ],
   "source": [
    "coleta1.Leitura_Dados_agua(\"lagoa01\", \"001AB\", \"Ferro\", 3.84, \"superficie\")"
   ]
  },
  {
   "cell_type": "code",
   "execution_count": 106,
   "id": "85e34147",
   "metadata": {},
   "outputs": [
    {
     "name": "stdout",
     "output_type": "stream",
     "text": [
      "Nome da propriedade: p-wave\n",
      "Valor de leitura:  1550.5\n",
      "Profundiade de leitura:  120\n",
      "Local:  Furo002\n"
     ]
    }
   ],
   "source": [
    "coleta1.Leitura_Dados_Geo(\"p-wave\", 1550.5, 120, \"Furo002\") "
   ]
  },
  {
   "cell_type": "code",
   "execution_count": 107,
   "id": "96f95f9b",
   "metadata": {},
   "outputs": [
    {
     "name": "stdout",
     "output_type": "stream",
     "text": [
      "Nome da propriedade: Mg\n",
      "Valor de leitura:  14.5\n",
      "Nome do Local:  lagoa01\n",
      "Código da amostra:  002AB\n",
      "Tipo de monitoramento:  Subterranea\n"
     ]
    }
   ],
   "source": [
    "coleta1.Leitura_Dados_agua(\"lagoa01\", \"002AB\", \"Mg\", 14.5, \"Subterranea\")"
   ]
  },
  {
   "cell_type": "code",
   "execution_count": 108,
   "id": "2c2f6a21",
   "metadata": {},
   "outputs": [
    {
     "data": {
      "text/plain": [
       "[['GRA', 50.5, 100, 'Furo001'], ['p-wave', 1550.5, 120, 'Furo002']]"
      ]
     },
     "execution_count": 108,
     "metadata": {},
     "output_type": "execute_result"
    }
   ],
   "source": [
    "coleta1.imprimir_dados1()"
   ]
  },
  {
   "cell_type": "code",
   "execution_count": 109,
   "id": "bb9d2e90",
   "metadata": {},
   "outputs": [
    {
     "data": {
      "text/plain": [
       "[['lagoa01', '001AB', 'Ferro', 3.84, 'superficie'],\n",
       " ['lagoa01', '002AB', 'Mg', 14.5, 'Subterranea']]"
      ]
     },
     "execution_count": 109,
     "metadata": {},
     "output_type": "execute_result"
    }
   ],
   "source": [
    "coleta1.imprimir_dados2()"
   ]
  },
  {
   "cell_type": "code",
   "execution_count": 110,
   "id": "043cecbd",
   "metadata": {},
   "outputs": [
    {
     "name": "stdout",
     "output_type": "stream",
     "text": [
      "Nome da propriedade: NGR\n",
      "Valor de leitura:  10.5\n",
      "Profundiade de leitura:  120\n",
      "Local:  Furo003\n"
     ]
    }
   ],
   "source": [
    "coleta1.Leitura_Dados_Geo(\"NGR\", 10.5, 120, \"Furo003\")"
   ]
  },
  {
   "cell_type": "code",
   "execution_count": 111,
   "id": "e91d42ca",
   "metadata": {},
   "outputs": [
    {
     "name": "stdout",
     "output_type": "stream",
     "text": [
      "Nome da propriedade: K\n",
      "Valor de leitura:  3.56\n",
      "Nome do Local:  lagoa03\n",
      "Código da amostra:  004AB\n",
      "Tipo de monitoramento:  Subterranea\n"
     ]
    }
   ],
   "source": [
    "coleta1.Leitura_Dados_agua(\"lagoa03\", \"004AB\", \"K\", 3.56, \"Subterranea\")"
   ]
  },
  {
   "cell_type": "code",
   "execution_count": 112,
   "id": "ca610915",
   "metadata": {},
   "outputs": [
    {
     "data": {
      "text/plain": [
       "[['GRA', 50.5, 100, 'Furo001'],\n",
       " ['p-wave', 1550.5, 120, 'Furo002'],\n",
       " ['NGR', 10.5, 120, 'Furo003']]"
      ]
     },
     "execution_count": 112,
     "metadata": {},
     "output_type": "execute_result"
    }
   ],
   "source": [
    "coleta1.imprimir_dados1()"
   ]
  },
  {
   "cell_type": "code",
   "execution_count": 113,
   "id": "3b27f0b9",
   "metadata": {},
   "outputs": [
    {
     "data": {
      "text/plain": [
       "[['lagoa01', '001AB', 'Ferro', 3.84, 'superficie'],\n",
       " ['lagoa01', '002AB', 'Mg', 14.5, 'Subterranea'],\n",
       " ['lagoa03', '004AB', 'K', 3.56, 'Subterranea']]"
      ]
     },
     "execution_count": 113,
     "metadata": {},
     "output_type": "execute_result"
    }
   ],
   "source": [
    "coleta1.imprimir_dados2()"
   ]
  },
  {
   "cell_type": "code",
   "execution_count": 114,
   "id": "7f35bdff",
   "metadata": {},
   "outputs": [
    {
     "data": {
      "text/plain": [
       "[['GRA', 50.5, 100, 'Furo001'],\n",
       " ['NGR', 10.5, 120, 'Furo003'],\n",
       " ['p-wave', 1550.5, 120, 'Furo002']]"
      ]
     },
     "execution_count": 114,
     "metadata": {},
     "output_type": "execute_result"
    }
   ],
   "source": [
    "coleta1.imprimir_dados1_order()"
   ]
  },
  {
   "cell_type": "code",
   "execution_count": 115,
   "id": "0d807afc",
   "metadata": {},
   "outputs": [
    {
     "data": {
      "text/plain": [
       "[['lagoa01', '001AB', 'Ferro', 3.84, 'superficie'],\n",
       " ['lagoa01', '002AB', 'Mg', 14.5, 'Subterranea'],\n",
       " ['lagoa03', '004AB', 'K', 3.56, 'Subterranea']]"
      ]
     },
     "execution_count": 115,
     "metadata": {},
     "output_type": "execute_result"
    }
   ],
   "source": [
    "coleta1.imprimir_dados2_order()"
   ]
  },
  {
   "cell_type": "code",
   "execution_count": 116,
   "id": "8739758f",
   "metadata": {},
   "outputs": [
    {
     "data": {
      "text/plain": [
       "1550.5"
      ]
     },
     "execution_count": 116,
     "metadata": {},
     "output_type": "execute_result"
    }
   ],
   "source": [
    "coleta1.imprimir_maior_valor()"
   ]
  },
  {
   "cell_type": "code",
   "execution_count": null,
   "id": "be5a45f5",
   "metadata": {},
   "outputs": [],
   "source": []
  },
  {
   "cell_type": "code",
   "execution_count": null,
   "id": "c9222aa8",
   "metadata": {},
   "outputs": [],
   "source": []
  },
  {
   "cell_type": "code",
   "execution_count": 119,
   "id": "2e71385e",
   "metadata": {},
   "outputs": [
    {
     "name": "stdout",
     "output_type": "stream",
     "text": [
      "0.0\n",
      "2.0\n",
      "2.8284271247461903\n",
      "40320\n",
      "False\n",
      "-0.14550003380861354\n",
      "0.9893582466233818\n"
     ]
    }
   ],
   "source": [
    "print (math.sqrt(0))\n",
    "print (math.sqrt(4))\n",
    "print (math.sqrt(8))\n",
    "\n",
    "print (math.factorial(8))\n",
    "print (math.isnan(4)) #NaN\n",
    "print (math.cos(8))\n",
    "print (math.sin(8))\n"
   ]
  },
  {
   "cell_type": "code",
   "execution_count": 121,
   "id": "a4b50850",
   "metadata": {},
   "outputs": [
    {
     "name": "stdout",
     "output_type": "stream",
     "text": [
      "curso de python\n",
      "Curso De Python\n"
     ]
    }
   ],
   "source": [
    "\n",
    "\n",
    "s = 'curso de python'\n",
    "\n",
    "print (s)\n",
    "print (string.capwords(s))\n"
   ]
  },
  {
   "cell_type": "code",
   "execution_count": 134,
   "id": "5dac1a0c",
   "metadata": {},
   "outputs": [],
   "source": [
    "\n",
    "dir = []\n",
    "patch = 'C:/Users'\n",
    "for filename in os.listdir(patch):\n",
    "    dir.append (filename)\n"
   ]
  },
  {
   "cell_type": "code",
   "execution_count": 135,
   "id": "0588b511",
   "metadata": {},
   "outputs": [
    {
     "name": "stdout",
     "output_type": "stream",
     "text": [
      "['All Users', 'Default', 'Default User', 'desktop.ini', 'Public', 'TEMP', 'teste', 'Todos os Usuários', 'tsbre', 'Usuário Padrão']\n"
     ]
    }
   ],
   "source": [
    "print (dir)"
   ]
  },
  {
   "cell_type": "code",
   "execution_count": 136,
   "id": "1c1c2f8a",
   "metadata": {},
   "outputs": [
    {
     "name": "stdout",
     "output_type": "stream",
     "text": [
      "O Diretorio atual é C:\\Users\\tsbre\\Documents\\códigos\n"
     ]
    }
   ],
   "source": [
    "# mostrar diretorio atual\n",
    "path = os.getcwd()\n",
    "print (\"O Diretorio atual é %s\" % path)\n"
   ]
  },
  {
   "cell_type": "code",
   "execution_count": 138,
   "id": "98bb1376",
   "metadata": {},
   "outputs": [
    {
     "name": "stdout",
     "output_type": "stream",
     "text": [
      " Diretório criado com sucesso. C:/Users/tsbre/Documents/códigos/teste \n"
     ]
    }
   ],
   "source": [
    "# caminho e nome do diretório a ser criado\n",
    "path = \"C:/Users/tsbre/Documents/códigos/teste\"\n",
    "\n",
    "try:\n",
    "    os.mkdir(path)\n",
    "except OSError:\n",
    "    print (\" Erro ao criar o diretório %s \" % path)\n",
    "else:\n",
    "    print (\" Diretório criado com sucesso. %s \" % path)\n"
   ]
  },
  {
   "cell_type": "code",
   "execution_count": null,
   "id": "bb8fb1ed",
   "metadata": {},
   "outputs": [],
   "source": []
  }
 ],
 "metadata": {
  "kernelspec": {
   "display_name": "Python 3",
   "language": "python",
   "name": "python3"
  },
  "language_info": {
   "codemirror_mode": {
    "name": "ipython",
    "version": 3
   },
   "file_extension": ".py",
   "mimetype": "text/x-python",
   "name": "python",
   "nbconvert_exporter": "python",
   "pygments_lexer": "ipython3",
   "version": "3.8.10"
  }
 },
 "nbformat": 4,
 "nbformat_minor": 5
}
