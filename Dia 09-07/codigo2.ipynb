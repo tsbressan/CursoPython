{
 "cells": [
  {
   "cell_type": "markdown",
   "id": "c7359365",
   "metadata": {},
   "source": [
    "##### 1) Operações matemáticas com 2 variáveis\n",
    "##### 2) Operações matemáticas com 3 variáveis\n",
    "##### 3) Operações com String\n",
    "##### 4) Conversão de tipos\n",
    "##### 5) Operações com booleanos\n",
    "##### 6) Operação com String - avançado\n"
   ]
  },
  {
   "cell_type": "code",
   "execution_count": 9,
   "id": "38380068",
   "metadata": {},
   "outputs": [],
   "source": [
    "#1) Operações matemáticas com 2 variáveis\n",
    "#tipos de dados - variáveis: int, float, string, bool\n",
    "\n",
    "valor1 = 500\n",
    "valor2 = 600\n",
    "\n",
    "#operações matemáticas\n",
    "# +, -, /, *, %, **"
   ]
  },
  {
   "cell_type": "code",
   "execution_count": 10,
   "id": "a82c2d46",
   "metadata": {},
   "outputs": [
    {
     "data": {
      "text/plain": [
       "int"
      ]
     },
     "execution_count": 10,
     "metadata": {},
     "output_type": "execute_result"
    }
   ],
   "source": [
    "type(valor2)"
   ]
  },
  {
   "cell_type": "code",
   "execution_count": 21,
   "id": "591fe9c3",
   "metadata": {},
   "outputs": [
    {
     "name": "stdout",
     "output_type": "stream",
     "text": [
      "-248300\n"
     ]
    }
   ],
   "source": [
    "resultado = (valor1+valor2-valor1*valor1+valor2)\n",
    "print(resultado)"
   ]
  },
  {
   "cell_type": "code",
   "execution_count": 22,
   "id": "e9b144a3",
   "metadata": {},
   "outputs": [],
   "source": [
    "#ordem de precedência: (), *,/,+,-"
   ]
  },
  {
   "cell_type": "code",
   "execution_count": 23,
   "id": "698f07e9",
   "metadata": {},
   "outputs": [],
   "source": [
    "#2) Operações matemáticas com 3 variáveis"
   ]
  },
  {
   "cell_type": "code",
   "execution_count": 32,
   "id": "c1193b5f",
   "metadata": {},
   "outputs": [],
   "source": [
    "valor1 = 500\n",
    "valor2 = 600\n",
    "valor3 = 700"
   ]
  },
  {
   "cell_type": "code",
   "execution_count": 33,
   "id": "efe53859",
   "metadata": {},
   "outputs": [
    {
     "data": {
      "text/plain": [
       "int"
      ]
     },
     "execution_count": 33,
     "metadata": {},
     "output_type": "execute_result"
    }
   ],
   "source": [
    "type(valor1)"
   ]
  },
  {
   "cell_type": "code",
   "execution_count": 34,
   "id": "e52fc492",
   "metadata": {},
   "outputs": [
    {
     "name": "stdout",
     "output_type": "stream",
     "text": [
      "400\n"
     ]
    }
   ],
   "source": [
    "resultado = (valor1+valor2-valor3)\n",
    "print(resultado)"
   ]
  },
  {
   "cell_type": "code",
   "execution_count": 35,
   "id": "71c604ae",
   "metadata": {},
   "outputs": [],
   "source": [
    "#3) Operações com String"
   ]
  },
  {
   "cell_type": "code",
   "execution_count": 36,
   "id": "6f4371b1",
   "metadata": {},
   "outputs": [],
   "source": [
    "nome = \"curso de python\""
   ]
  },
  {
   "cell_type": "code",
   "execution_count": 37,
   "id": "3582cc28",
   "metadata": {},
   "outputs": [
    {
     "data": {
      "text/plain": [
       "str"
      ]
     },
     "execution_count": 37,
     "metadata": {},
     "output_type": "execute_result"
    }
   ],
   "source": [
    "type(nome)"
   ]
  },
  {
   "cell_type": "code",
   "execution_count": 38,
   "id": "7d2ab6fa",
   "metadata": {},
   "outputs": [
    {
     "name": "stdout",
     "output_type": "stream",
     "text": [
      "curso de python\n"
     ]
    }
   ],
   "source": [
    "print (nome)"
   ]
  },
  {
   "cell_type": "code",
   "execution_count": 43,
   "id": "2b281707",
   "metadata": {},
   "outputs": [
    {
     "name": "stdout",
     "output_type": "stream",
     "text": [
      "d\n"
     ]
    }
   ],
   "source": [
    "#vetor\n",
    "# posições - sempre inicia em 0\n",
    "# 0123456789 10 11 12 13 14\n",
    "# curso de p y  t  h  o  n\n",
    "print (nome[6])"
   ]
  },
  {
   "cell_type": "code",
   "execution_count": 45,
   "id": "e6599027",
   "metadata": {},
   "outputs": [
    {
     "name": "stdout",
     "output_type": "stream",
     "text": [
      "curso de python\n"
     ]
    }
   ],
   "source": [
    "print (nome[0:15])"
   ]
  },
  {
   "cell_type": "code",
   "execution_count": 46,
   "id": "6b365a3f",
   "metadata": {},
   "outputs": [
    {
     "data": {
      "text/plain": [
       "15"
      ]
     },
     "execution_count": 46,
     "metadata": {},
     "output_type": "execute_result"
    }
   ],
   "source": [
    "len(nome) #tamanho do vetor - string pode ser entendida como um vetor"
   ]
  },
  {
   "cell_type": "code",
   "execution_count": 47,
   "id": "a23ee57f",
   "metadata": {},
   "outputs": [
    {
     "ename": "IndexError",
     "evalue": "string index out of range",
     "output_type": "error",
     "traceback": [
      "\u001b[1;31m---------------------------------------------------------------------------\u001b[0m",
      "\u001b[1;31mIndexError\u001b[0m                                Traceback (most recent call last)",
      "\u001b[1;32m<ipython-input-47-32d8d3270fc3>\u001b[0m in \u001b[0;36m<module>\u001b[1;34m\u001b[0m\n\u001b[1;32m----> 1\u001b[1;33m \u001b[0mprint\u001b[0m \u001b[1;33m(\u001b[0m\u001b[0mnome\u001b[0m\u001b[1;33m[\u001b[0m\u001b[1;36m15\u001b[0m\u001b[1;33m]\u001b[0m\u001b[1;33m)\u001b[0m\u001b[1;33m\u001b[0m\u001b[1;33m\u001b[0m\u001b[0m\n\u001b[0m",
      "\u001b[1;31mIndexError\u001b[0m: string index out of range"
     ]
    }
   ],
   "source": [
    "print (nome[15])"
   ]
  },
  {
   "cell_type": "code",
   "execution_count": 48,
   "id": "5cbdff52",
   "metadata": {},
   "outputs": [],
   "source": [
    "#4) Conversão de tipos"
   ]
  },
  {
   "cell_type": "code",
   "execution_count": 49,
   "id": "39d5418b",
   "metadata": {},
   "outputs": [],
   "source": [
    "valor1 = 10\n",
    "valor2 = 50"
   ]
  },
  {
   "cell_type": "code",
   "execution_count": 50,
   "id": "99e29bd5",
   "metadata": {},
   "outputs": [
    {
     "data": {
      "text/plain": [
       "int"
      ]
     },
     "execution_count": 50,
     "metadata": {},
     "output_type": "execute_result"
    }
   ],
   "source": [
    "type(valor1)"
   ]
  },
  {
   "cell_type": "code",
   "execution_count": 51,
   "id": "c54ae85d",
   "metadata": {},
   "outputs": [
    {
     "name": "stdout",
     "output_type": "stream",
     "text": [
      "10.0\n"
     ]
    }
   ],
   "source": [
    "print (float(valor1))"
   ]
  },
  {
   "cell_type": "code",
   "execution_count": 52,
   "id": "b2df1555",
   "metadata": {},
   "outputs": [],
   "source": [
    "valor1 = float(valor1)"
   ]
  },
  {
   "cell_type": "code",
   "execution_count": 53,
   "id": "b97a3b45",
   "metadata": {},
   "outputs": [
    {
     "data": {
      "text/plain": [
       "float"
      ]
     },
     "execution_count": 53,
     "metadata": {},
     "output_type": "execute_result"
    }
   ],
   "source": [
    "type(valor1)"
   ]
  },
  {
   "cell_type": "code",
   "execution_count": 54,
   "id": "c2959605",
   "metadata": {},
   "outputs": [
    {
     "name": "stdout",
     "output_type": "stream",
     "text": [
      "10.0\n"
     ]
    }
   ],
   "source": [
    "print(valor1)"
   ]
  },
  {
   "cell_type": "code",
   "execution_count": 55,
   "id": "820926d2",
   "metadata": {},
   "outputs": [],
   "source": [
    "valor1 = int(valor1)"
   ]
  },
  {
   "cell_type": "code",
   "execution_count": 57,
   "id": "cdba3c48",
   "metadata": {},
   "outputs": [
    {
     "data": {
      "text/plain": [
       "int"
      ]
     },
     "execution_count": 57,
     "metadata": {},
     "output_type": "execute_result"
    }
   ],
   "source": [
    "type(valor1)"
   ]
  },
  {
   "cell_type": "code",
   "execution_count": 58,
   "id": "57afe25d",
   "metadata": {},
   "outputs": [],
   "source": [
    "valor1 = str(valor1)"
   ]
  },
  {
   "cell_type": "code",
   "execution_count": 59,
   "id": "564652e3",
   "metadata": {},
   "outputs": [
    {
     "data": {
      "text/plain": [
       "str"
      ]
     },
     "execution_count": 59,
     "metadata": {},
     "output_type": "execute_result"
    }
   ],
   "source": [
    "type(valor1)"
   ]
  },
  {
   "cell_type": "code",
   "execution_count": 60,
   "id": "a5c431a7",
   "metadata": {},
   "outputs": [
    {
     "name": "stdout",
     "output_type": "stream",
     "text": [
      "10\n"
     ]
    }
   ],
   "source": [
    "print(valor1)"
   ]
  },
  {
   "cell_type": "code",
   "execution_count": 61,
   "id": "4ba110d5",
   "metadata": {},
   "outputs": [
    {
     "name": "stdout",
     "output_type": "stream",
     "text": [
      "1\n"
     ]
    }
   ],
   "source": [
    "print (valor1[0])"
   ]
  },
  {
   "cell_type": "code",
   "execution_count": 62,
   "id": "6ac59bf6",
   "metadata": {},
   "outputs": [
    {
     "ename": "TypeError",
     "evalue": "'int' object is not subscriptable",
     "output_type": "error",
     "traceback": [
      "\u001b[1;31m---------------------------------------------------------------------------\u001b[0m",
      "\u001b[1;31mTypeError\u001b[0m                                 Traceback (most recent call last)",
      "\u001b[1;32m<ipython-input-62-2baf188024eb>\u001b[0m in \u001b[0;36m<module>\u001b[1;34m\u001b[0m\n\u001b[1;32m----> 1\u001b[1;33m \u001b[0mprint\u001b[0m \u001b[1;33m(\u001b[0m\u001b[0mvalor2\u001b[0m\u001b[1;33m[\u001b[0m\u001b[1;36m0\u001b[0m\u001b[1;33m]\u001b[0m\u001b[1;33m)\u001b[0m\u001b[1;33m\u001b[0m\u001b[1;33m\u001b[0m\u001b[0m\n\u001b[0m",
      "\u001b[1;31mTypeError\u001b[0m: 'int' object is not subscriptable"
     ]
    }
   ],
   "source": [
    "print (valor2[0])"
   ]
  },
  {
   "cell_type": "code",
   "execution_count": 63,
   "id": "87c32d3d",
   "metadata": {},
   "outputs": [],
   "source": [
    "#função para conversão: float(), int(), str(), bool(), not()\n"
   ]
  },
  {
   "cell_type": "code",
   "execution_count": 64,
   "id": "f43a7eeb",
   "metadata": {},
   "outputs": [],
   "source": [
    "valor1 = True\n",
    "valor2 = False"
   ]
  },
  {
   "cell_type": "code",
   "execution_count": 65,
   "id": "9634b339",
   "metadata": {},
   "outputs": [
    {
     "name": "stdout",
     "output_type": "stream",
     "text": [
      "False\n"
     ]
    }
   ],
   "source": [
    "print (not(valor1))"
   ]
  },
  {
   "cell_type": "code",
   "execution_count": 66,
   "id": "88219c1b",
   "metadata": {},
   "outputs": [
    {
     "name": "stdout",
     "output_type": "stream",
     "text": [
      "True\n"
     ]
    }
   ],
   "source": [
    "print (not(valor2))"
   ]
  },
  {
   "cell_type": "code",
   "execution_count": 67,
   "id": "e15dda52",
   "metadata": {},
   "outputs": [
    {
     "name": "stdout",
     "output_type": "stream",
     "text": [
      "True\n"
     ]
    }
   ],
   "source": [
    "print (valor1)"
   ]
  },
  {
   "cell_type": "code",
   "execution_count": 68,
   "id": "ebc16b99",
   "metadata": {},
   "outputs": [
    {
     "name": "stdout",
     "output_type": "stream",
     "text": [
      "1\n"
     ]
    }
   ],
   "source": [
    "print (valor1+valor2)   #True + False (True ou False)"
   ]
  },
  {
   "cell_type": "code",
   "execution_count": 69,
   "id": "fea43d33",
   "metadata": {},
   "outputs": [
    {
     "name": "stdout",
     "output_type": "stream",
     "text": [
      "0\n"
     ]
    }
   ],
   "source": [
    "print (valor1*valor2)"
   ]
  },
  {
   "cell_type": "code",
   "execution_count": null,
   "id": "3530cc2e",
   "metadata": {},
   "outputs": [],
   "source": [
    "#algebra booleana - George Boole\n",
    "#+,*, not\n",
    "#+ (ou)\n",
    "#* (e)\n",
    "#not - negação\n"
   ]
  },
  {
   "cell_type": "markdown",
   "id": "7b101ad2",
   "metadata": {},
   "source": [
    "OU\n",
    "0 ou 0 = 0\n",
    "0 ou 1 = 1\n",
    "1 ou 0 = 1\n",
    "1 ou 1 = 1\n",
    "\n",
    "E\n",
    "0 E 0 = 0\n",
    "0 E 1 = 0\n",
    "1 E 0 = 0\n",
    "1 E 1 = 1"
   ]
  },
  {
   "cell_type": "code",
   "execution_count": 74,
   "id": "4feaf713",
   "metadata": {},
   "outputs": [],
   "source": [
    "valor1 = True\n",
    "valor2 = True"
   ]
  },
  {
   "cell_type": "code",
   "execution_count": 75,
   "id": "f6c2293c",
   "metadata": {},
   "outputs": [
    {
     "name": "stdout",
     "output_type": "stream",
     "text": [
      "1\n"
     ]
    }
   ],
   "source": [
    "print (valor1*valor2)"
   ]
  },
  {
   "cell_type": "code",
   "execution_count": 76,
   "id": "086e08e3",
   "metadata": {},
   "outputs": [],
   "source": [
    "#operadores lógicos\n",
    "#E, OU\n",
    "#operadores\n",
    "#>, <, <=, >=, !=, == (todos retornam tipo booleano)\n"
   ]
  },
  {
   "cell_type": "code",
   "execution_count": null,
   "id": "8062124b",
   "metadata": {},
   "outputs": [],
   "source": []
  },
  {
   "cell_type": "code",
   "execution_count": 121,
   "id": "f83d27b6",
   "metadata": {},
   "outputs": [],
   "source": [
    "#6) Operação com String - avançado\n",
    "\n",
    "nome1 = \"curso de python\"\n",
    "nome2 = \"mes   de julho \""
   ]
  },
  {
   "cell_type": "code",
   "execution_count": 89,
   "id": "dd001c78",
   "metadata": {},
   "outputs": [
    {
     "data": {
      "text/plain": [
       "str"
      ]
     },
     "execution_count": 89,
     "metadata": {},
     "output_type": "execute_result"
    }
   ],
   "source": [
    "type(nome2)"
   ]
  },
  {
   "cell_type": "code",
   "execution_count": 80,
   "id": "50649a27",
   "metadata": {},
   "outputs": [
    {
     "data": {
      "text/plain": [
       "'curso de pythonmes de julho'"
      ]
     },
     "execution_count": 80,
     "metadata": {},
     "output_type": "execute_result"
    }
   ],
   "source": [
    "nome1+nome2"
   ]
  },
  {
   "cell_type": "code",
   "execution_count": 122,
   "id": "8e1877ba",
   "metadata": {},
   "outputs": [],
   "source": [
    "tamanho_nome1 = len(nome1)\n",
    "tamanho_nome2 = len(nome2)"
   ]
  },
  {
   "cell_type": "code",
   "execution_count": 83,
   "id": "6db50b3f",
   "metadata": {},
   "outputs": [
    {
     "data": {
      "text/plain": [
       "int"
      ]
     },
     "execution_count": 83,
     "metadata": {},
     "output_type": "execute_result"
    }
   ],
   "source": [
    "type(tamanho_nome2)"
   ]
  },
  {
   "cell_type": "code",
   "execution_count": 95,
   "id": "99d70fb7",
   "metadata": {},
   "outputs": [],
   "source": [
    "resultado_operador = tamanho_nome1 == tamanho_nome2"
   ]
  },
  {
   "cell_type": "code",
   "execution_count": 96,
   "id": "8db3136d",
   "metadata": {},
   "outputs": [
    {
     "data": {
      "text/plain": [
       "bool"
      ]
     },
     "execution_count": 96,
     "metadata": {},
     "output_type": "execute_result"
    }
   ],
   "source": [
    "type(resultado_operador)"
   ]
  },
  {
   "cell_type": "code",
   "execution_count": 123,
   "id": "0d1877bd",
   "metadata": {},
   "outputs": [
    {
     "name": "stdout",
     "output_type": "stream",
     "text": [
      "15\n"
     ]
    }
   ],
   "source": [
    "print(tamanho_nome1)"
   ]
  },
  {
   "cell_type": "code",
   "execution_count": 124,
   "id": "c48e9447",
   "metadata": {},
   "outputs": [
    {
     "name": "stdout",
     "output_type": "stream",
     "text": [
      "15\n"
     ]
    }
   ],
   "source": [
    "print(tamanho_nome2)"
   ]
  },
  {
   "cell_type": "code",
   "execution_count": null,
   "id": "83ef4697",
   "metadata": {},
   "outputs": [],
   "source": []
  },
  {
   "cell_type": "code",
   "execution_count": null,
   "id": "c99130c7",
   "metadata": {},
   "outputs": [],
   "source": []
  },
  {
   "cell_type": "code",
   "execution_count": null,
   "id": "ca23f468",
   "metadata": {},
   "outputs": [],
   "source": []
  },
  {
   "cell_type": "markdown",
   "id": "e84cb120",
   "metadata": {},
   "source": [
    "Estrutura de controle"
   ]
  },
  {
   "cell_type": "code",
   "execution_count": 98,
   "id": "c8545d8c",
   "metadata": {},
   "outputs": [
    {
     "name": "stdout",
     "output_type": "stream",
     "text": [
      "Número maior que 3\n"
     ]
    }
   ],
   "source": [
    "a = 10\n",
    "if a > 3:    #verdadeiro\n",
    "    print(\"Número maior que 3\")\n",
    "else:        #falso\n",
    "    print(\"Número menor que 3\")\n"
   ]
  },
  {
   "cell_type": "code",
   "execution_count": 100,
   "id": "90540ac5",
   "metadata": {},
   "outputs": [
    {
     "name": "stdout",
     "output_type": "stream",
     "text": [
      "o valor de entrada não era esperado em nenhum if\n"
     ]
    }
   ],
   "source": [
    "\n",
    "valor_entrada = 10\n",
    "if valor_entrada == 1:\n",
    "\tprint(\"a entrada e 1\")\n",
    "elif valor_entrada == 2:\n",
    "\tprint(\"a entrada e 2\")\n",
    "elif valor_entrada == 3:\n",
    "\tprint(\"a entrada e 3\")\n",
    "elif valor_entrada == 4:\n",
    "\tprint(\"a entrada e 4\")\n",
    "else:\n",
    "\tprint(\"o valor de entrada não era esperado em nenhum if\")\n"
   ]
  },
  {
   "cell_type": "code",
   "execution_count": null,
   "id": "a7ea9fe7",
   "metadata": {},
   "outputs": [],
   "source": []
  },
  {
   "cell_type": "code",
   "execution_count": 101,
   "id": "d6b68c73",
   "metadata": {},
   "outputs": [],
   "source": [
    "#tamanho_nome1\n",
    "#tamanho_nome1"
   ]
  },
  {
   "cell_type": "code",
   "execution_count": 102,
   "id": "f7d6cd6c",
   "metadata": {},
   "outputs": [
    {
     "name": "stdout",
     "output_type": "stream",
     "text": [
      "A 1ª string é a maior.\n"
     ]
    }
   ],
   "source": [
    "if (tamanho_nome1 > tamanho_nome2):\n",
    "    print (\"A 1ª string é a maior.\")\n",
    "else:\n",
    "    print (\"A 2º string é a maior.\")"
   ]
  },
  {
   "cell_type": "code",
   "execution_count": 103,
   "id": "7a838a18",
   "metadata": {},
   "outputs": [
    {
     "name": "stdout",
     "output_type": "stream",
     "text": [
      "A 1º string é a maior.\n"
     ]
    }
   ],
   "source": [
    "if (tamanho_nome1 < tamanho_nome2):\n",
    "    print (\"A 2ª string é a maior.\")\n",
    "else:\n",
    "    print (\"A 1º string é a maior.\")"
   ]
  },
  {
   "cell_type": "code",
   "execution_count": 104,
   "id": "0aa70adb",
   "metadata": {},
   "outputs": [
    {
     "name": "stdout",
     "output_type": "stream",
     "text": [
      "A 1º string é a maior.\n"
     ]
    }
   ],
   "source": [
    "if (tamanho_nome1 < tamanho_nome2):\n",
    "    print (\"A 2ª string é a maior.\")\n",
    "    \n",
    "if (tamanho_nome1 > tamanho_nome2):\n",
    "    print (\"A 1º string é a maior.\")"
   ]
  },
  {
   "cell_type": "code",
   "execution_count": 125,
   "id": "cfe8deeb",
   "metadata": {},
   "outputs": [
    {
     "name": "stdout",
     "output_type": "stream",
     "text": [
      "Os dois são iguais.\n"
     ]
    }
   ],
   "source": [
    "if (tamanho_nome1 < tamanho_nome2):\n",
    "    print (\"A 2ª string é a maior.\")\n",
    "elif (tamanho_nome1 > tamanho_nome2):\n",
    "    print (\"A 1º string é a maior.\")\n",
    "else:\n",
    "    print (\"Os dois são iguais.\")"
   ]
  },
  {
   "cell_type": "code",
   "execution_count": 126,
   "id": "39e396c2",
   "metadata": {},
   "outputs": [
    {
     "name": "stdout",
     "output_type": "stream",
     "text": [
      "15\n"
     ]
    }
   ],
   "source": [
    "print (tamanho_nome1)"
   ]
  },
  {
   "cell_type": "code",
   "execution_count": 127,
   "id": "e8fbcc5f",
   "metadata": {},
   "outputs": [
    {
     "name": "stdout",
     "output_type": "stream",
     "text": [
      "15\n"
     ]
    }
   ],
   "source": [
    "print (tamanho_nome2)"
   ]
  },
  {
   "cell_type": "code",
   "execution_count": null,
   "id": "de08fcd3",
   "metadata": {},
   "outputs": [],
   "source": [
    "tamanho_nome3 = 10\n",
    "\n",
    "if (tamanho_nome1 > tamanho_nome2 and tamanho_nome2 > tamanho_nome3):\n",
    "    print (\"\")\n",
    "else:\n",
    "    print (\"\")\n",
    "\n",
    "#E\n",
    "#falso e falso           = falso\n",
    "#falso e verdadeiro      = falso\n",
    "#verdadeiro e falso      = falso\n",
    "#verdadeiro e verdadeiro = verdadeiro"
   ]
  },
  {
   "cell_type": "code",
   "execution_count": null,
   "id": "4bbb1bd0",
   "metadata": {},
   "outputs": [],
   "source": [
    "tamanho_nome3 = 10\n",
    "\n",
    "if (tamanho_nome1 > tamanho_nome2 or tamanho_nome2 > tamanho_nome3):\n",
    "    print (\"\")\n",
    "else:\n",
    "    print (\"\")\n",
    "\n",
    "#OU\n",
    "#falso ou falso           = falso\n",
    "#falso ou verdadeiro      = verdadeiro\n",
    "#verdadeiro ou falso      = verdadeiro\n",
    "#verdadeiro ou verdadeiro = verdadeiro"
   ]
  }
 ],
 "metadata": {
  "kernelspec": {
   "display_name": "Python 3",
   "language": "python",
   "name": "python3"
  },
  "language_info": {
   "codemirror_mode": {
    "name": "ipython",
    "version": 3
   },
   "file_extension": ".py",
   "mimetype": "text/x-python",
   "name": "python",
   "nbconvert_exporter": "python",
   "pygments_lexer": "ipython3",
   "version": "3.8.10"
  }
 },
 "nbformat": 4,
 "nbformat_minor": 5
}
