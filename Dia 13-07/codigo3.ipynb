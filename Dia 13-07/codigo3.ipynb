{
 "cells": [
  {
   "cell_type": "code",
   "execution_count": 7,
   "id": "c98e08d6",
   "metadata": {},
   "outputs": [],
   "source": [
    "def main():\n",
    "    idade= int(input (\"Quantos anos voce tem?\"))  \n",
    "    if (idade >=  16):\n",
    "        print (\"Você já tem idade para votar.\")\n",
    "    elif (idade > 10 and idade < 16):\n",
    "        print (\"Você é adolescente\")\n",
    "    else:\n",
    "        print(\"Você ainda é um garoto(a). Aproveite para brincar...\")\n",
    "\n",
    "#input - retornar um string\n"
   ]
  },
  {
   "cell_type": "code",
   "execution_count": 8,
   "id": "d412d899",
   "metadata": {},
   "outputs": [
    {
     "name": "stdout",
     "output_type": "stream",
     "text": [
      "Quantos anos voce tem?11\n",
      "Você é adolescente\n"
     ]
    }
   ],
   "source": [
    "main()"
   ]
  },
  {
   "cell_type": "code",
   "execution_count": 14,
   "id": "bde92f4c",
   "metadata": {},
   "outputs": [
    {
     "ename": "IndentationError",
     "evalue": "expected an indented block (<ipython-input-14-31ea7974b2b9>, line 8)",
     "output_type": "error",
     "traceback": [
      "\u001b[1;36m  File \u001b[1;32m\"<ipython-input-14-31ea7974b2b9>\"\u001b[1;36m, line \u001b[1;32m8\u001b[0m\n\u001b[1;33m    print (\"Primeiro número é maior que o segundo número\")\u001b[0m\n\u001b[1;37m    ^\u001b[0m\n\u001b[1;31mIndentationError\u001b[0m\u001b[1;31m:\u001b[0m expected an indented block\n"
     ]
    }
   ],
   "source": [
    "def main():\n",
    "    #.....\n",
    "    Numero1= int(input (\"Digite o número 1:\"))  \n",
    "    Numero2= int(input (\"Digite o Número 2:\")) \n",
    "    \n",
    "    #......\n",
    "    if Numero1 > Numero2:\n",
    "        print (\"Primeiro número é maior que o segundo número\")\n",
    "    elif Numero2 >  Numero1:\n",
    "        print (\"Segundo número é maior que o primeiro número\")\n",
    "    else:\n",
    "        print(\"Os números são iguais\")\n",
    "        "
   ]
  },
  {
   "cell_type": "code",
   "execution_count": 13,
   "id": "d206491c",
   "metadata": {},
   "outputs": [
    {
     "name": "stdout",
     "output_type": "stream",
     "text": [
      "Digite o número 1:5\n",
      "Digite o Número 2:5\n",
      "Os números são iguais\n"
     ]
    }
   ],
   "source": [
    "main()"
   ]
  },
  {
   "cell_type": "code",
   "execution_count": null,
   "id": "adfc4f0d",
   "metadata": {},
   "outputs": [],
   "source": []
  },
  {
   "cell_type": "code",
   "execution_count": null,
   "id": "c7381380",
   "metadata": {},
   "outputs": [],
   "source": []
  },
  {
   "cell_type": "code",
   "execution_count": 54,
   "id": "23ff7d12",
   "metadata": {},
   "outputs": [],
   "source": [
    "Notas = [5.0, 8.5, 7.8, 9.3]\n",
    "lista = ['A', 1, 2, 'Casa', 2.3]"
   ]
  },
  {
   "cell_type": "code",
   "execution_count": 55,
   "id": "341cd30b",
   "metadata": {},
   "outputs": [
    {
     "data": {
      "text/plain": [
       "list"
      ]
     },
     "execution_count": 55,
     "metadata": {},
     "output_type": "execute_result"
    }
   ],
   "source": [
    "type(Notas)"
   ]
  },
  {
   "cell_type": "code",
   "execution_count": 56,
   "id": "82606f86",
   "metadata": {},
   "outputs": [
    {
     "data": {
      "text/plain": [
       "list"
      ]
     },
     "execution_count": 56,
     "metadata": {},
     "output_type": "execute_result"
    }
   ],
   "source": [
    "type(lista)"
   ]
  },
  {
   "cell_type": "code",
   "execution_count": 57,
   "id": "8ade5c42",
   "metadata": {},
   "outputs": [
    {
     "data": {
      "text/plain": [
       "4"
      ]
     },
     "execution_count": 57,
     "metadata": {},
     "output_type": "execute_result"
    }
   ],
   "source": [
    "len(Notas)"
   ]
  },
  {
   "cell_type": "code",
   "execution_count": 58,
   "id": "41933c8d",
   "metadata": {},
   "outputs": [
    {
     "name": "stdout",
     "output_type": "stream",
     "text": [
      "2.3\n"
     ]
    }
   ],
   "source": [
    "print (lista[4])"
   ]
  },
  {
   "cell_type": "code",
   "execution_count": 59,
   "id": "a8bd928d",
   "metadata": {},
   "outputs": [
    {
     "ename": "IndexError",
     "evalue": "list assignment index out of range",
     "output_type": "error",
     "traceback": [
      "\u001b[1;31m---------------------------------------------------------------------------\u001b[0m",
      "\u001b[1;31mIndexError\u001b[0m                                Traceback (most recent call last)",
      "\u001b[1;32m<ipython-input-59-f915dc5aae68>\u001b[0m in \u001b[0;36m<module>\u001b[1;34m\u001b[0m\n\u001b[1;32m----> 1\u001b[1;33m \u001b[0mNotas\u001b[0m\u001b[1;33m[\u001b[0m\u001b[1;36m4\u001b[0m\u001b[1;33m]\u001b[0m \u001b[1;33m=\u001b[0m \u001b[1;36m21\u001b[0m\u001b[1;33m\u001b[0m\u001b[1;33m\u001b[0m\u001b[0m\n\u001b[0m",
      "\u001b[1;31mIndexError\u001b[0m: list assignment index out of range"
     ]
    }
   ],
   "source": [
    "Notas[4] = 21"
   ]
  },
  {
   "cell_type": "code",
   "execution_count": 60,
   "id": "df4b2898",
   "metadata": {},
   "outputs": [],
   "source": [
    "#adicionar valores ao vetor(tipo:list)\n",
    "Notas.append(21)\n"
   ]
  },
  {
   "cell_type": "code",
   "execution_count": 61,
   "id": "a473ad9e",
   "metadata": {},
   "outputs": [
    {
     "name": "stdout",
     "output_type": "stream",
     "text": [
      "[5.0, 8.5, 7.8, 9.3, 21]\n"
     ]
    }
   ],
   "source": [
    "print (Notas)"
   ]
  },
  {
   "cell_type": "code",
   "execution_count": 62,
   "id": "ea0b3d40",
   "metadata": {},
   "outputs": [
    {
     "data": {
      "text/plain": [
       "5"
      ]
     },
     "execution_count": 62,
     "metadata": {},
     "output_type": "execute_result"
    }
   ],
   "source": [
    "len(Notas)"
   ]
  },
  {
   "cell_type": "code",
   "execution_count": 63,
   "id": "8510f491",
   "metadata": {},
   "outputs": [],
   "source": [
    "#outros exemplos de vetores - tuplas e dicionários\n",
    "\n",
    "#tuplas\n",
    "Notas1 = (5.0, 8.7, 4.6)"
   ]
  },
  {
   "cell_type": "code",
   "execution_count": 64,
   "id": "9d8ea3dd",
   "metadata": {},
   "outputs": [
    {
     "data": {
      "text/plain": [
       "tuple"
      ]
     },
     "execution_count": 64,
     "metadata": {},
     "output_type": "execute_result"
    }
   ],
   "source": [
    "type(Notas1)"
   ]
  },
  {
   "cell_type": "code",
   "execution_count": 65,
   "id": "50078105",
   "metadata": {},
   "outputs": [
    {
     "name": "stdout",
     "output_type": "stream",
     "text": [
      "[5.0, 8.5, 7.8, 9.3, 21]\n"
     ]
    }
   ],
   "source": [
    "print (Notas)"
   ]
  },
  {
   "cell_type": "code",
   "execution_count": 66,
   "id": "368422d4",
   "metadata": {},
   "outputs": [
    {
     "name": "stdout",
     "output_type": "stream",
     "text": [
      "21\n"
     ]
    }
   ],
   "source": [
    "print(Notas[4])"
   ]
  },
  {
   "cell_type": "code",
   "execution_count": 67,
   "id": "26e8bdd7",
   "metadata": {},
   "outputs": [],
   "source": [
    "Notas[4] = 22"
   ]
  },
  {
   "cell_type": "code",
   "execution_count": 68,
   "id": "75d98f59",
   "metadata": {},
   "outputs": [
    {
     "name": "stdout",
     "output_type": "stream",
     "text": [
      "[5.0, 8.5, 7.8, 9.3, 22]\n"
     ]
    }
   ],
   "source": [
    "print (Notas)"
   ]
  },
  {
   "cell_type": "code",
   "execution_count": 69,
   "id": "b1fb83d9",
   "metadata": {},
   "outputs": [
    {
     "name": "stdout",
     "output_type": "stream",
     "text": [
      "(5.0, 8.7, 4.6)\n"
     ]
    }
   ],
   "source": [
    "print(Notas1)"
   ]
  },
  {
   "cell_type": "code",
   "execution_count": 70,
   "id": "0dcaa00e",
   "metadata": {},
   "outputs": [
    {
     "name": "stdout",
     "output_type": "stream",
     "text": [
      "4.6\n"
     ]
    }
   ],
   "source": [
    "print(Notas1[2])"
   ]
  },
  {
   "cell_type": "code",
   "execution_count": 71,
   "id": "1150091d",
   "metadata": {},
   "outputs": [
    {
     "ename": "TypeError",
     "evalue": "'tuple' object does not support item assignment",
     "output_type": "error",
     "traceback": [
      "\u001b[1;31m---------------------------------------------------------------------------\u001b[0m",
      "\u001b[1;31mTypeError\u001b[0m                                 Traceback (most recent call last)",
      "\u001b[1;32m<ipython-input-71-6b54ec53da81>\u001b[0m in \u001b[0;36m<module>\u001b[1;34m\u001b[0m\n\u001b[1;32m----> 1\u001b[1;33m \u001b[0mNotas1\u001b[0m\u001b[1;33m[\u001b[0m\u001b[1;36m2\u001b[0m\u001b[1;33m]\u001b[0m \u001b[1;33m=\u001b[0m \u001b[1;36m7.6\u001b[0m\u001b[1;33m\u001b[0m\u001b[1;33m\u001b[0m\u001b[0m\n\u001b[0m",
      "\u001b[1;31mTypeError\u001b[0m: 'tuple' object does not support item assignment"
     ]
    }
   ],
   "source": [
    "Notas1[2] = 7.6"
   ]
  },
  {
   "cell_type": "code",
   "execution_count": 72,
   "id": "a8102082",
   "metadata": {},
   "outputs": [
    {
     "data": {
      "text/plain": [
       "3"
      ]
     },
     "execution_count": 72,
     "metadata": {},
     "output_type": "execute_result"
    }
   ],
   "source": [
    "len(Notas1)"
   ]
  },
  {
   "cell_type": "code",
   "execution_count": 73,
   "id": "866309d5",
   "metadata": {},
   "outputs": [
    {
     "data": {
      "text/plain": [
       "5"
      ]
     },
     "execution_count": 73,
     "metadata": {},
     "output_type": "execute_result"
    }
   ],
   "source": [
    "len(Notas)"
   ]
  },
  {
   "cell_type": "code",
   "execution_count": 74,
   "id": "0ba61177",
   "metadata": {},
   "outputs": [],
   "source": [
    "#dicionário\n",
    "\n",
    "Notas3 = {\"Aluno1\": 8.6, \"Aluno2\": 7.5, \"Aluno3\": 8.1}"
   ]
  },
  {
   "cell_type": "code",
   "execution_count": 75,
   "id": "648734b0",
   "metadata": {},
   "outputs": [
    {
     "name": "stdout",
     "output_type": "stream",
     "text": [
      "{'Aluno1': 8.6, 'Aluno2': 7.5, 'Aluno3': 8.1}\n"
     ]
    }
   ],
   "source": [
    "print(Notas3)"
   ]
  },
  {
   "cell_type": "code",
   "execution_count": 76,
   "id": "80e5541c",
   "metadata": {},
   "outputs": [
    {
     "name": "stdout",
     "output_type": "stream",
     "text": [
      "7.5\n"
     ]
    }
   ],
   "source": [
    "print(Notas3[\"Aluno2\"])"
   ]
  },
  {
   "cell_type": "code",
   "execution_count": 77,
   "id": "30828195",
   "metadata": {},
   "outputs": [
    {
     "data": {
      "text/plain": [
       "3"
      ]
     },
     "execution_count": 77,
     "metadata": {},
     "output_type": "execute_result"
    }
   ],
   "source": [
    "len(Notas3)"
   ]
  },
  {
   "cell_type": "code",
   "execution_count": 78,
   "id": "a39b27fa",
   "metadata": {},
   "outputs": [
    {
     "data": {
      "text/plain": [
       "dict"
      ]
     },
     "execution_count": 78,
     "metadata": {},
     "output_type": "execute_result"
    }
   ],
   "source": [
    "type(Notas3)"
   ]
  },
  {
   "cell_type": "code",
   "execution_count": 79,
   "id": "240476d6",
   "metadata": {},
   "outputs": [
    {
     "data": {
      "text/plain": [
       "dict_keys(['Aluno1', 'Aluno2', 'Aluno3'])"
      ]
     },
     "execution_count": 79,
     "metadata": {},
     "output_type": "execute_result"
    }
   ],
   "source": [
    "Notas3.keys()"
   ]
  },
  {
   "cell_type": "code",
   "execution_count": 80,
   "id": "04bebb9f",
   "metadata": {},
   "outputs": [
    {
     "data": {
      "text/plain": [
       "dict_values([8.6, 7.5, 8.1])"
      ]
     },
     "execution_count": 80,
     "metadata": {},
     "output_type": "execute_result"
    }
   ],
   "source": [
    "Notas3.values()"
   ]
  },
  {
   "cell_type": "code",
   "execution_count": 88,
   "id": "b5267e5b",
   "metadata": {},
   "outputs": [],
   "source": [
    "Numeros = []   #inicio do vetor(tipo: list)"
   ]
  },
  {
   "cell_type": "code",
   "execution_count": 89,
   "id": "cefff784",
   "metadata": {},
   "outputs": [],
   "source": [
    "\n",
    "def main1():\n",
    "\tNumeros.append(int( input (\"Digite o número 1:\")) )\n",
    "\tNumeros.append(int( input (\"Digite o Número 2:\")) )\n",
    "    \n",
    "\tif Numeros[0] > Numeros[1]:\n",
    "\t\tprint (\"Primeiro número é maior que o segundo número\")\n",
    "\telif Numeros[1] >  Numeros[0]:\n",
    "\t\tprint (\"Segundo número é maior que o primeiro número\")\n",
    "\telse:\n",
    "\t\tprint(\"Os números são iguais\")\n"
   ]
  },
  {
   "cell_type": "code",
   "execution_count": 92,
   "id": "5aead25e",
   "metadata": {},
   "outputs": [
    {
     "name": "stdout",
     "output_type": "stream",
     "text": [
      "Digite o número 1:8\n",
      "Digite o Número 2:9\n",
      "Segundo número é maior que o primeiro número\n"
     ]
    }
   ],
   "source": [
    "main1()"
   ]
  },
  {
   "cell_type": "code",
   "execution_count": 93,
   "id": "35533410",
   "metadata": {},
   "outputs": [
    {
     "name": "stdout",
     "output_type": "stream",
     "text": [
      "[5, 6, 8, 9]\n"
     ]
    }
   ],
   "source": [
    "print(Numeros)"
   ]
  },
  {
   "cell_type": "code",
   "execution_count": 94,
   "id": "7584496a",
   "metadata": {},
   "outputs": [],
   "source": [
    "del(Numeros[0])"
   ]
  },
  {
   "cell_type": "code",
   "execution_count": 95,
   "id": "4e241acf",
   "metadata": {},
   "outputs": [
    {
     "name": "stdout",
     "output_type": "stream",
     "text": [
      "[6, 8, 9]\n"
     ]
    }
   ],
   "source": [
    "print(Numeros)"
   ]
  },
  {
   "cell_type": "code",
   "execution_count": 116,
   "id": "1221768b",
   "metadata": {},
   "outputs": [],
   "source": [
    "alunos = ['Andre', 'Lucas', 'Antonio', 'Maria'] \n"
   ]
  },
  {
   "cell_type": "code",
   "execution_count": 117,
   "id": "7c685c37",
   "metadata": {},
   "outputs": [
    {
     "name": "stdout",
     "output_type": "stream",
     "text": [
      "['Andre', 'Lucas', 'Antonio', 'Maria']\n"
     ]
    }
   ],
   "source": [
    "print(alunos)"
   ]
  },
  {
   "cell_type": "code",
   "execution_count": 98,
   "id": "d5e7ab8d",
   "metadata": {},
   "outputs": [
    {
     "ename": "IndexError",
     "evalue": "list index out of range",
     "output_type": "error",
     "traceback": [
      "\u001b[1;31m---------------------------------------------------------------------------\u001b[0m",
      "\u001b[1;31mIndexError\u001b[0m                                Traceback (most recent call last)",
      "\u001b[1;32m<ipython-input-98-90fef4acbad1>\u001b[0m in \u001b[0;36m<module>\u001b[1;34m\u001b[0m\n\u001b[1;32m----> 1\u001b[1;33m \u001b[0mprint\u001b[0m\u001b[1;33m(\u001b[0m\u001b[0malunos\u001b[0m\u001b[1;33m[\u001b[0m\u001b[1;36m4\u001b[0m\u001b[1;33m]\u001b[0m\u001b[1;33m)\u001b[0m\u001b[1;33m\u001b[0m\u001b[1;33m\u001b[0m\u001b[0m\n\u001b[0m",
      "\u001b[1;31mIndexError\u001b[0m: list index out of range"
     ]
    }
   ],
   "source": [
    "print(alunos[4])"
   ]
  },
  {
   "cell_type": "code",
   "execution_count": 99,
   "id": "8f745d68",
   "metadata": {},
   "outputs": [
    {
     "data": {
      "text/plain": [
       "4"
      ]
     },
     "execution_count": 99,
     "metadata": {},
     "output_type": "execute_result"
    }
   ],
   "source": [
    "#len() - tamanho/comprimento do vetor(tipo:list)\n",
    "len(alunos)"
   ]
  },
  {
   "cell_type": "code",
   "execution_count": 112,
   "id": "f0ba26e6",
   "metadata": {},
   "outputs": [],
   "source": [
    "alunos.append(\"Thiago\")"
   ]
  },
  {
   "cell_type": "code",
   "execution_count": 113,
   "id": "4a3ebb2b",
   "metadata": {},
   "outputs": [
    {
     "name": "stdout",
     "output_type": "stream",
     "text": [
      "['Antonio', 'Maria', 'Thiago', 'Thiago']\n"
     ]
    }
   ],
   "source": [
    "print(alunos)"
   ]
  },
  {
   "cell_type": "code",
   "execution_count": 114,
   "id": "16094065",
   "metadata": {},
   "outputs": [
    {
     "data": {
      "text/plain": [
       "4"
      ]
     },
     "execution_count": 114,
     "metadata": {},
     "output_type": "execute_result"
    }
   ],
   "source": [
    "len(alunos)"
   ]
  },
  {
   "cell_type": "code",
   "execution_count": 105,
   "id": "a8030e70",
   "metadata": {},
   "outputs": [
    {
     "ename": "IndexError",
     "evalue": "list assignment index out of range",
     "output_type": "error",
     "traceback": [
      "\u001b[1;31m---------------------------------------------------------------------------\u001b[0m",
      "\u001b[1;31mIndexError\u001b[0m                                Traceback (most recent call last)",
      "\u001b[1;32m<ipython-input-105-13164ce84fe4>\u001b[0m in \u001b[0;36m<module>\u001b[1;34m\u001b[0m\n\u001b[1;32m----> 1\u001b[1;33m \u001b[1;32mdel\u001b[0m\u001b[1;33m(\u001b[0m\u001b[0malunos\u001b[0m\u001b[1;33m[\u001b[0m\u001b[1;36m4\u001b[0m\u001b[1;33m]\u001b[0m\u001b[1;33m)\u001b[0m\u001b[1;33m\u001b[0m\u001b[1;33m\u001b[0m\u001b[0m\n\u001b[0m",
      "\u001b[1;31mIndexError\u001b[0m: list assignment index out of range"
     ]
    }
   ],
   "source": [
    "del(alunos[4])"
   ]
  },
  {
   "cell_type": "code",
   "execution_count": 118,
   "id": "5f996361",
   "metadata": {},
   "outputs": [
    {
     "name": "stdout",
     "output_type": "stream",
     "text": [
      "['Andre', 'Lucas', 'Antonio', 'Maria']\n"
     ]
    }
   ],
   "source": [
    "print(alunos)"
   ]
  },
  {
   "cell_type": "code",
   "execution_count": 110,
   "id": "ada2a7ed",
   "metadata": {},
   "outputs": [],
   "source": [
    "del(alunos[0])"
   ]
  },
  {
   "cell_type": "code",
   "execution_count": 111,
   "id": "0de99d82",
   "metadata": {},
   "outputs": [],
   "source": []
  },
  {
   "cell_type": "code",
   "execution_count": 126,
   "id": "03a4ef63",
   "metadata": {},
   "outputs": [],
   "source": [
    "lista = [1,2,3]\n",
    "lista1 = [4,5,6,7]\n",
    "lista2 = lista + lista1 #+ simbolo de concatenar/agrupar"
   ]
  },
  {
   "cell_type": "code",
   "execution_count": 129,
   "id": "585cc3c2",
   "metadata": {},
   "outputs": [
    {
     "name": "stdout",
     "output_type": "stream",
     "text": [
      "[1, 2, 3, 4, 5, 6, 7]\n"
     ]
    }
   ],
   "source": [
    "print(lista2)"
   ]
  },
  {
   "cell_type": "code",
   "execution_count": 130,
   "id": "82b4b3f1",
   "metadata": {},
   "outputs": [],
   "source": [
    "lista2.append([5,6,8,9,10])"
   ]
  },
  {
   "cell_type": "code",
   "execution_count": 131,
   "id": "82220477",
   "metadata": {},
   "outputs": [
    {
     "data": {
      "text/plain": [
       "[1, 2, 3, 4, 5, 6, 7, [5, 6, 8, 9, 10]]"
      ]
     },
     "execution_count": 131,
     "metadata": {},
     "output_type": "execute_result"
    }
   ],
   "source": [
    "lista2"
   ]
  },
  {
   "cell_type": "code",
   "execution_count": 132,
   "id": "beeb625c",
   "metadata": {},
   "outputs": [
    {
     "data": {
      "text/plain": [
       "8"
      ]
     },
     "execution_count": 132,
     "metadata": {},
     "output_type": "execute_result"
    }
   ],
   "source": [
    "len(lista2)"
   ]
  },
  {
   "cell_type": "code",
   "execution_count": 140,
   "id": "7b3a9165",
   "metadata": {},
   "outputs": [
    {
     "name": "stdout",
     "output_type": "stream",
     "text": [
      "[1, 2, 3, 1, 2, 3]\n"
     ]
    }
   ],
   "source": [
    "print(lista * 2)"
   ]
  },
  {
   "cell_type": "code",
   "execution_count": 141,
   "id": "7e8debaa",
   "metadata": {},
   "outputs": [],
   "source": [
    "tamanho = 10\n",
    "lista3 = [0]"
   ]
  },
  {
   "cell_type": "code",
   "execution_count": 142,
   "id": "3940ee28",
   "metadata": {},
   "outputs": [],
   "source": [
    "lista3 = lista3 * 10"
   ]
  },
  {
   "cell_type": "code",
   "execution_count": 143,
   "id": "75181635",
   "metadata": {},
   "outputs": [
    {
     "name": "stdout",
     "output_type": "stream",
     "text": [
      "[0, 0, 0, 0, 0, 0, 0, 0, 0, 0]\n"
     ]
    }
   ],
   "source": [
    "print(lista3)"
   ]
  },
  {
   "cell_type": "code",
   "execution_count": null,
   "id": "57f338fc",
   "metadata": {},
   "outputs": [],
   "source": []
  },
  {
   "cell_type": "markdown",
   "id": "be7ed8e1",
   "metadata": {},
   "source": [
    "Escreva um código Python que, dados 2 números diferentes (a e b), encontre o menor e o maior."
   ]
  },
  {
   "cell_type": "code",
   "execution_count": 145,
   "id": "a71c46c1",
   "metadata": {},
   "outputs": [
    {
     "name": "stdout",
     "output_type": "stream",
     "text": [
      "os números são iguais.\n"
     ]
    }
   ],
   "source": [
    "numero1 = 10\n",
    "numero2 = 10\n",
    "\n",
    "if (numero1 > numero2):\n",
    "    print (\"O numero 1 é maior que o número 2.\")\n",
    "elif (numero2 > numero1):\n",
    "    print (\"O numero 2 é maior que o número 1.\")\n",
    "else:\n",
    "    print (\"os números são iguais.\")\n",
    "    "
   ]
  },
  {
   "cell_type": "code",
   "execution_count": 156,
   "id": "2911f12b",
   "metadata": {},
   "outputs": [
    {
     "name": "stdout",
     "output_type": "stream",
     "text": [
      "Digite o 1º número: 9\n",
      "Digite o 2º número: 8\n",
      "O numero 1 é maior que o número 2.\n"
     ]
    }
   ],
   "source": [
    "valor = [] #criar uma lista\n",
    "\n",
    "valor.append(input (\"Digite o 1º número: \"))\n",
    "valor.append(input (\"Digite o 2º número: \"))\n",
    "\n",
    "if (valor[0] > valor[1]):\n",
    "    print (\"O numero 1 é maior que o número 2.\")\n",
    "elif (valor[1] > valor[0]):\n",
    "    print (\"O numero 2 é maior que o número 1.\")\n",
    "elif (valor[0] == valor[1]):\n",
    "    print (\"os números são iguais.\")"
   ]
  },
  {
   "cell_type": "code",
   "execution_count": 157,
   "id": "fc172f03",
   "metadata": {},
   "outputs": [
    {
     "name": "stdout",
     "output_type": "stream",
     "text": [
      "['9', '8']\n"
     ]
    }
   ],
   "source": [
    "print(valor)"
   ]
  },
  {
   "cell_type": "code",
   "execution_count": null,
   "id": "715346cf",
   "metadata": {},
   "outputs": [],
   "source": []
  },
  {
   "cell_type": "markdown",
   "id": "6d75c230",
   "metadata": {},
   "source": [
    "Leia um número e imprima a raiz quadrada do número caso o número seja positivo ou igual a zero."
   ]
  },
  {
   "cell_type": "code",
   "execution_count": 163,
   "id": "b6a379d2",
   "metadata": {},
   "outputs": [
    {
     "name": "stdout",
     "output_type": "stream",
     "text": [
      "Digite o 1º número: 65\n",
      "8.06225774829855\n"
     ]
    }
   ],
   "source": [
    "valor = [] #criar uma lista\n",
    "\n",
    "valor.append(int (input (\"Digite o 1º número: \")))\n",
    "\n",
    "if (valor[0] >= 0):\n",
    "    raiz = valor[0] ** 0.5\n",
    "    print (raiz)\n",
    "else: \n",
    "    print (\"Número não aceito\")\n"
   ]
  },
  {
   "cell_type": "code",
   "execution_count": 164,
   "id": "260da0fc",
   "metadata": {},
   "outputs": [
    {
     "data": {
      "text/plain": [
       "float"
      ]
     },
     "execution_count": 164,
     "metadata": {},
     "output_type": "execute_result"
    }
   ],
   "source": [
    "type(raiz)"
   ]
  },
  {
   "cell_type": "code",
   "execution_count": null,
   "id": "82a622e2",
   "metadata": {},
   "outputs": [],
   "source": []
  },
  {
   "attachments": {},
   "cell_type": "markdown",
   "id": "4f513951",
   "metadata": {},
   "source": [
    "Leia dois números e efetue a adição. Caso o valor somado seja maior que 20, este deverá ser apresentado somando-se a ele mais 8; caso o valor somado seja menor ou igual a 20, este deverá ser apresentado subtraindo-se 5."
   ]
  },
  {
   "cell_type": "code",
   "execution_count": 172,
   "id": "e5ce167d",
   "metadata": {},
   "outputs": [
    {
     "name": "stdout",
     "output_type": "stream",
     "text": [
      "Digite o 1º número: 10\n",
      "Digite o 2º número: 11\n",
      "29.0\n"
     ]
    }
   ],
   "source": [
    "valor = [] #criar uma lista\n",
    "\n",
    "valor.append(float(input (\"Digite o 1º número: \")))\n",
    "valor.append(float(input (\"Digite o 2º número: \")))\n",
    "\n",
    "#soma = valor[0] + valor[1]\n",
    "soma = sum(valor) #sum() função de soma\n",
    "\n",
    "if (soma > 20):\n",
    "    soma = soma + 8\n",
    "    print (soma)\n",
    "elif (soma <= 20):\n",
    "    soma = soma -5\n",
    "    print (soma)\n",
    "    "
   ]
  },
  {
   "cell_type": "code",
   "execution_count": 169,
   "id": "cdc9facd",
   "metadata": {},
   "outputs": [
    {
     "name": "stdout",
     "output_type": "stream",
     "text": [
      "[8.0, 9.0]\n"
     ]
    }
   ],
   "source": [
    "print(valor)"
   ]
  },
  {
   "cell_type": "code",
   "execution_count": null,
   "id": "c5d02c12",
   "metadata": {},
   "outputs": [],
   "source": []
  },
  {
   "cell_type": "markdown",
   "id": "e46c6974",
   "metadata": {},
   "source": [
    "4) Faça um algoritmo que leia dois vetores de 3 posições e realize a soma dos valores nas mesmas posições."
   ]
  },
  {
   "cell_type": "code",
   "execution_count": 174,
   "id": "cb4f6f43",
   "metadata": {},
   "outputs": [
    {
     "name": "stdout",
     "output_type": "stream",
     "text": [
      "Digite o 1º número: 2\n",
      "Digite o 2º número: 3\n",
      "Digite o 3º número: 4\n",
      "Digite o 1º número: 10\n",
      "Digite o 2º número: 11\n",
      "Digite o 3º número: 12\n"
     ]
    }
   ],
   "source": [
    "valor1 = [] #criar uma lista\n",
    "valor2 = []\n",
    "\n",
    "valor1.append(float(input (\"Digite o 1º número: \")))\n",
    "valor1.append(float(input (\"Digite o 2º número: \")))\n",
    "valor1.append(float(input (\"Digite o 3º número: \")))\n",
    "\n",
    "valor2.append(float(input (\"Digite o 1º número: \")))\n",
    "valor2.append(float(input (\"Digite o 2º número: \")))\n",
    "valor2.append(float(input (\"Digite o 3º número: \")))"
   ]
  },
  {
   "cell_type": "code",
   "execution_count": 175,
   "id": "90b65810",
   "metadata": {},
   "outputs": [
    {
     "name": "stdout",
     "output_type": "stream",
     "text": [
      "[2.0, 3.0, 4.0]\n"
     ]
    }
   ],
   "source": [
    "print (valor1)"
   ]
  },
  {
   "cell_type": "code",
   "execution_count": 176,
   "id": "3a08f8e0",
   "metadata": {},
   "outputs": [
    {
     "name": "stdout",
     "output_type": "stream",
     "text": [
      "[10.0, 11.0, 12.0]\n"
     ]
    }
   ],
   "source": [
    "print(valor2)"
   ]
  },
  {
   "cell_type": "code",
   "execution_count": 178,
   "id": "486812c0",
   "metadata": {},
   "outputs": [
    {
     "data": {
      "text/plain": [
       "list"
      ]
     },
     "execution_count": 178,
     "metadata": {},
     "output_type": "execute_result"
    }
   ],
   "source": [
    "type(valor2)"
   ]
  },
  {
   "cell_type": "code",
   "execution_count": 179,
   "id": "ad21dadc",
   "metadata": {},
   "outputs": [],
   "source": [
    "soma_p0 = valor1[0]+valor2[0]\n",
    "soma_p1 = valor1[1]+valor2[1]\n",
    "soma_p2 = valor1[2]+valor2[2]"
   ]
  },
  {
   "cell_type": "code",
   "execution_count": 180,
   "id": "10d64685",
   "metadata": {},
   "outputs": [
    {
     "name": "stdout",
     "output_type": "stream",
     "text": [
      "12.0\n"
     ]
    }
   ],
   "source": [
    "print(soma_p0)"
   ]
  },
  {
   "cell_type": "code",
   "execution_count": 183,
   "id": "2f1b25e6",
   "metadata": {},
   "outputs": [],
   "source": [
    "del(valor)"
   ]
  },
  {
   "cell_type": "markdown",
   "id": "60ba5fd3",
   "metadata": {},
   "source": [
    "5) Faça um algoritmo que leia 3 números float, armazene em vetor e calcule a soma dos valores, a média dos valores"
   ]
  },
  {
   "cell_type": "code",
   "execution_count": 184,
   "id": "da4b21a1",
   "metadata": {},
   "outputs": [
    {
     "name": "stdout",
     "output_type": "stream",
     "text": [
      "Digite o 1º número: 5\n",
      "Digite o 2º número: 6\n",
      "Digite o 3º número: 8\n",
      "A soma é:  19.0  e a média é:  6.333333333333333\n"
     ]
    }
   ],
   "source": [
    "valor = [] #criar uma lista\n",
    "\n",
    "valor.append(float(input (\"Digite o 1º número: \")))\n",
    "valor.append(float(input (\"Digite o 2º número: \")))\n",
    "valor.append(float(input (\"Digite o 3º número: \")))\n",
    "\n",
    "soma = sum(valor)   # soma = valor[0] + valor[1] + valor[2]\n",
    "media = soma / len(valor)   # media = soma / 3\n",
    "print(\"A soma é: \", soma, \" e a média é: \", media)"
   ]
  },
  {
   "cell_type": "code",
   "execution_count": null,
   "id": "3b538e8f",
   "metadata": {},
   "outputs": [],
   "source": [
    "### valor Valor - case sensitive "
   ]
  },
  {
   "cell_type": "code",
   "execution_count": null,
   "id": "808b3e64",
   "metadata": {},
   "outputs": [],
   "source": []
  },
  {
   "cell_type": "code",
   "execution_count": 185,
   "id": "129cd460",
   "metadata": {},
   "outputs": [],
   "source": [
    "m = [[1, 2, 3, 4], [5, 6, 7, 8], [9, 10, 11, 12], [13, 14, 15, 16]]"
   ]
  },
  {
   "cell_type": "code",
   "execution_count": 186,
   "id": "39657951",
   "metadata": {},
   "outputs": [
    {
     "name": "stdout",
     "output_type": "stream",
     "text": [
      "[[1, 2, 3, 4], [5, 6, 7, 8], [9, 10, 11, 12], [13, 14, 15, 16]]\n"
     ]
    }
   ],
   "source": [
    "print (m)"
   ]
  },
  {
   "cell_type": "code",
   "execution_count": 187,
   "id": "d15d403a",
   "metadata": {},
   "outputs": [
    {
     "data": {
      "text/plain": [
       "list"
      ]
     },
     "execution_count": 187,
     "metadata": {},
     "output_type": "execute_result"
    }
   ],
   "source": [
    "type(m)"
   ]
  },
  {
   "cell_type": "code",
   "execution_count": 188,
   "id": "8ec1d2f9",
   "metadata": {},
   "outputs": [
    {
     "data": {
      "text/plain": [
       "[1, 2, 3, 4]"
      ]
     },
     "execution_count": 188,
     "metadata": {},
     "output_type": "execute_result"
    }
   ],
   "source": [
    "m[0]"
   ]
  },
  {
   "cell_type": "code",
   "execution_count": 189,
   "id": "ce1a8dff",
   "metadata": {},
   "outputs": [
    {
     "name": "stdout",
     "output_type": "stream",
     "text": [
      "1\n"
     ]
    }
   ],
   "source": [
    "print (m[0][0])"
   ]
  },
  {
   "cell_type": "code",
   "execution_count": null,
   "id": "89d44405",
   "metadata": {},
   "outputs": [],
   "source": []
  },
  {
   "cell_type": "markdown",
   "id": "2ea9e14e",
   "metadata": {},
   "source": [
    "[1, 2, 3, 4]\n",
    "[5, 6, 7, 8]\n",
    "[9, 10, 11, 12]\n",
    "[13, 14, 15, 16]"
   ]
  },
  {
   "cell_type": "code",
   "execution_count": 190,
   "id": "9c36e2a4",
   "metadata": {},
   "outputs": [],
   "source": [
    "m1 = [[1, 2, 3, [4.1,4.2,4.3]], [5, 6, 7, 8], [9, 10, 11, 12], [13, 14, 15, 16]]"
   ]
  },
  {
   "cell_type": "code",
   "execution_count": 191,
   "id": "b5af39dd",
   "metadata": {},
   "outputs": [
    {
     "data": {
      "text/plain": [
       "[[1, 2, 3, [4.1, 4.2, 4.3]], [5, 6, 7, 8], [9, 10, 11, 12], [13, 14, 15, 16]]"
      ]
     },
     "execution_count": 191,
     "metadata": {},
     "output_type": "execute_result"
    }
   ],
   "source": [
    "m1"
   ]
  },
  {
   "cell_type": "code",
   "execution_count": 193,
   "id": "c60b5020",
   "metadata": {},
   "outputs": [
    {
     "name": "stdout",
     "output_type": "stream",
     "text": [
      "4.1\n"
     ]
    }
   ],
   "source": [
    "print (m1[0][3][0])"
   ]
  },
  {
   "cell_type": "code",
   "execution_count": 195,
   "id": "27cbf5b9",
   "metadata": {},
   "outputs": [
    {
     "name": "stdout",
     "output_type": "stream",
     "text": [
      "[4.1, 4.2, 4.3]\n"
     ]
    }
   ],
   "source": [
    "print (m1[0][3])"
   ]
  },
  {
   "cell_type": "code",
   "execution_count": 196,
   "id": "82656513",
   "metadata": {},
   "outputs": [],
   "source": [
    "del(m1[0][3][0])"
   ]
  },
  {
   "cell_type": "code",
   "execution_count": 197,
   "id": "e149ce37",
   "metadata": {},
   "outputs": [
    {
     "name": "stdout",
     "output_type": "stream",
     "text": [
      "[[1, 2, 3, [4.2, 4.3]], [5, 6, 7, 8], [9, 10, 11, 12], [13, 14, 15, 16]]\n"
     ]
    }
   ],
   "source": [
    "print(m1)"
   ]
  },
  {
   "cell_type": "code",
   "execution_count": 203,
   "id": "3d65c489",
   "metadata": {},
   "outputs": [],
   "source": [
    "m1[0][3].append(4.1)"
   ]
  },
  {
   "cell_type": "code",
   "execution_count": 204,
   "id": "cfc85886",
   "metadata": {},
   "outputs": [
    {
     "name": "stdout",
     "output_type": "stream",
     "text": [
      "[[1, 2, 3, [4.2, 4.3, 4.1]], [5, 6, 7, 8], [9, 10, 11, 12], [13, 14, 15, 16]]\n"
     ]
    }
   ],
   "source": [
    "print (m1)"
   ]
  },
  {
   "cell_type": "code",
   "execution_count": null,
   "id": "3161563f",
   "metadata": {},
   "outputs": [],
   "source": []
  }
 ],
 "metadata": {
  "kernelspec": {
   "display_name": "Python 3",
   "language": "python",
   "name": "python3"
  },
  "language_info": {
   "codemirror_mode": {
    "name": "ipython",
    "version": 3
   },
   "file_extension": ".py",
   "mimetype": "text/x-python",
   "name": "python",
   "nbconvert_exporter": "python",
   "pygments_lexer": "ipython3",
   "version": "3.8.10"
  }
 },
 "nbformat": 4,
 "nbformat_minor": 5
}
